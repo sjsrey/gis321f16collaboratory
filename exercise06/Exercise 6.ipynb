{
 "cells": [
  {
   "cell_type": "markdown",
   "metadata": {},
   "source": [
    "# Exercise 06: Geospatial Indexing with Python\n",
    "\n",
    "**GIS 321: Principles of Programming for GIScience**  \n",
    "**Instructor: Dr. Sergio Rey**\n",
    "\n",
    "To run this notebook, you will need to download this [countries.geojson](https://github.com/datasets/geo-countries/tree/master/data) file (24MB) and place it in the same directory as this notebook."
   ]
  },
  {
   "cell_type": "markdown",
   "metadata": {},
   "source": [
    "1. Create a new class called Feature. \n",
    "2. Add a minimum bounding rectangle (MBR) attribute to your Feature class\n",
    "3. Add a method to determine whether a point (lon, lat) is contained in the Feature's MBR."
   ]
  },
  {
   "cell_type": "code",
   "execution_count": 1,
   "metadata": {
    "collapsed": false
   },
   "outputs": [],
   "source": [
    "import math\n",
    "class Feature(object): \n",
    "    \n",
    "    # Initializer: Sets the geometry, properties list, and MBR\n",
    "    # Leaves the airport list empty\n",
    "    def __init__(self, featureDict):\n",
    "        self.geometry = featureDict[\"geometry\"]\n",
    "        self.properties = featureDict[\"properties\"]\n",
    "        self.airport_list = []\n",
    "        \n",
    "        # Minimum bounding rectangle is stored as \n",
    "        # [[upperleft x, upperleft y], [lowerright x, lowerright y]]\n",
    "        self.mbr = [[math.inf,-math.inf],[-math.inf,math.inf]]\n",
    "        if self.geometry[\"type\"] == \"Polygon\":\n",
    "            self.mbr = self.getPolygonMBR(self.geometry[\"coordinates\"])\n",
    "        elif self.geometry[\"type\"] == \"MultiPolygon\":\n",
    "            self.mbr = self.getMultiPolygonMBR(self.geometry[\"coordinates\"])\n",
    "        else:\n",
    "            print(\"ERROR: Invalid geometry type '%s'\"%self.geometry[\"type\"])\n",
    "        #\n",
    "    #\n",
    "    \n",
    "    def isPointInMBR(self, point):\n",
    "        \"\"\"\n",
    "        Takes point as (x,y) pair\n",
    "        \"\"\"\n",
    "        return point[0] > self.mbr[0][0] and point[0] < self.mbr[1][0] and point[1] < self.mbr[0][1] and point[1] > self.mbr[1][1] \n",
    "    #\n",
    "    \n",
    "    # TODO: Make this a private method\n",
    "    def getPolygonMBR(self, polygon_coords):\n",
    "        \"\"\"\n",
    "        Takes a Polygon (list of lists of points- first list is the outer bound of \n",
    "        the polyon, subsequent lists are holes)\n",
    "        \"\"\"\n",
    "        mbr = [[math.inf,-math.inf],[-math.inf,math.inf]]\n",
    "        for point in polygon_coords[0]: # Only check the bounds of the first (outer) ring\n",
    "            if point[0] < mbr[0][0]:\n",
    "               mbr[0][0] = point[0]\n",
    "            if point[0] > mbr[1][0]:\n",
    "               mbr[1][0] = point[0]\n",
    "            if point[1] > mbr[0][1]:\n",
    "               mbr[0][1] = point[1]\n",
    "            if point[1] < mbr[1][1]:\n",
    "               mbr[1][1] = point[1]\n",
    "        return mbr\n",
    "    #\n",
    "    \n",
    "    # TODO: Make this a private method\n",
    "    def getMultiPolygonMBR(self, multipolygon_coords):\n",
    "        \"\"\"\n",
    "        Takes a MultiPolygon (list of Polygons- see getPolygoonMBR for definition)\n",
    "        \"\"\"\n",
    "        mbr = [[math.inf,-math.inf],[-math.inf,math.inf]]\n",
    "        for polygon in multipolygon_coords:\n",
    "            tmbr = self.getPolygonMBR(polygon)\n",
    "            # Check if any coordinate in the polygon's MBR extends the existing MBR\n",
    "            if tmbr[0][0] <  mbr[0][0]:\n",
    "                mbr[0][0] = tmbr[0][0]\n",
    "            if tmbr[1][0] >  mbr[1][0]:\n",
    "                mbr[1][0] = tmbr[1][0]\n",
    "            if tmbr[0][1] >  mbr[0][1]:\n",
    "                mbr[0][1] = tmbr[0][1]\n",
    "            if tmbr[1][1] <  mbr[1][1]:\n",
    "                mbr[1][1] = tmbr[1][1]\n",
    "        return mbr\n",
    "    #\n",
    "#\n"
   ]
  },
  {
   "cell_type": "markdown",
   "metadata": {},
   "source": [
    "1. For each feature in the countries file create an instance of your Feature class."
   ]
  },
  {
   "cell_type": "code",
   "execution_count": 2,
   "metadata": {
    "collapsed": false
   },
   "outputs": [],
   "source": [
    "import json\n",
    "f = \"countries.geojson\"\n",
    "with open(f, 'r') as infile:\n",
    "    g = json.load(infile)\n",
    "g.keys()\n",
    "# g is dictionary, which uses the GeoJSON format\n",
    "\n",
    "# Convert all the GeoJSON features to Feature objects\n",
    "feature_list = []\n",
    "for f in g[\"features\"]:\n",
    "    feature_list.append(Feature(f))"
   ]
  },
  {
   "cell_type": "markdown",
   "metadata": {},
   "source": [
    "\n",
    "#4. For each feature add a new attribute that lists the airports contained in its MBR.\n"
   ]
  },
  {
   "cell_type": "code",
   "execution_count": 3,
   "metadata": {
    "collapsed": true
   },
   "outputs": [],
   "source": [
    "# Load airports\n",
    "import points\n",
    "path = '../exercise04/airports.csv'\n",
    "header, data = points.read_airport_csv(path)"
   ]
  },
  {
   "cell_type": "code",
   "execution_count": 4,
   "metadata": {
    "collapsed": false
   },
   "outputs": [],
   "source": [
    "# For each country, go through the airport list.\n",
    "# If the airport point is in the country's MBR, add its ID to the airport_list\n",
    "lat_idx = header.index(\"latitude\")\n",
    "lon_idx = header.index(\"longitude\")\n",
    "id_idx = header.index(\"airport_id\")\n",
    "\n",
    "for country in feature_list:\n",
    "    for airport in data:\n",
    "        if country.isPointInMBR((airport[lon_idx], airport[lat_idx])):\n",
    "            country.airport_list.append(airport[id_idx])"
   ]
  },
  {
   "cell_type": "code",
   "execution_count": 5,
   "metadata": {
    "collapsed": false
   },
   "outputs": [
    {
     "name": "stdout",
     "output_type": "stream",
     "text": [
      "Country 39 is Canada.  Here are the countries in its airport list:\n",
      "{'Greenland': 9, 'Saint Pierre and Miquelon': 2, 'United States': 327, 'Canada': 382}\n"
     ]
    }
   ],
   "source": [
    "#test: Country 39 is Canada, and most of its airports should be Canada\n",
    "# 15 (Australia) is an even better match\n",
    "country_id = 39\n",
    "\n",
    "# print(g[\"features\"][country_id][\"properties\"][\"ADMIN\"])\n",
    "print(\"Country %d is %s.  Here are the countries in its airport list:\"%(country_id, feature_list[country_id].properties[\"ADMIN\"]))\n",
    "airport_country_list = {}\n",
    "for apt_id in feature_list[country_id].airport_list:\n",
    "    country = points.get_airport_by_id(header, data, apt_id)[3]\n",
    "    if country in airport_country_list:\n",
    "        airport_country_list[country] += 1\n",
    "    else:\n",
    "        airport_country_list[country] = 1\n",
    "print(airport_country_list)"
   ]
  },
  {
   "cell_type": "code",
   "execution_count": null,
   "metadata": {
    "collapsed": true
   },
   "outputs": [],
   "source": []
  }
 ],
 "metadata": {
  "anaconda-cloud": {},
  "kernelspec": {
   "display_name": "Python [Root]",
   "language": "python",
   "name": "Python [Root]"
  },
  "language_info": {
   "codemirror_mode": {
    "name": "ipython",
    "version": 3
   },
   "file_extension": ".py",
   "mimetype": "text/x-python",
   "name": "python",
   "nbconvert_exporter": "python",
   "pygments_lexer": "ipython3",
   "version": "3.5.2"
  }
 },
 "nbformat": 4,
 "nbformat_minor": 0
}
