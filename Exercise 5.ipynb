{
 "cells": [
  {
   "cell_type": "markdown",
   "metadata": {
    "collapsed": false
   },
   "source": [
    "# Dominic Exercise 05\n",
    "\n",
    "\n",
    "## Assignment:\n",
    "\n",
    "\n",
    "\n",
    " ____________________________________\n",
    "\n",
    "\n",
    "\n",
    "###### 1. In your points/distance.py module add a function to calculate the nearest neighbor distance (using Euclidean distance) for each airport and have it return a list of tuples with each tuple being of the following form (origin_id, nn_id, distance) where origin_id is the id of the origin airport, nn_id is the id of the nearest neighbor airport for origin_id and distance is the nearest neighbor distance."
   ]
  },
  {
   "cell_type": "code",
   "execution_count": null,
   "metadata": {
    "collapsed": false
   },
   "outputs": [],
   "source": [
    "#import created module points \n",
    "\n",
    "import points\n",
    "import math \n",
    "import csv\n",
    "\n",
    "#Shows Methods Within 'points' library \n",
    "#dir(points)\n",
    "\n"
   ]
  },
  {
   "cell_type": "markdown",
   "metadata": {},
   "source": [
    "### 2.Find the most isolated airport using Euclidean distance."
   ]
  },
  {
   "cell_type": "code",
   "execution_count": null,
   "metadata": {
    "collapsed": false
   },
   "outputs": [],
   "source": [
    "# Find Airport that is the furthest distance away from neighbor airport\n",
    "\n",
    "#Distance start\n",
    "Distance = 0;\n",
    "index = -1\n",
    "data1 = points.read_csv('airports.csv')\n",
    "\n",
    "lat = points.to_float(points.get_attribute(data1, 'latitude'))\n",
    "lon = points.to_float(points.get_attribute(data1, 'longitude'))\n",
    "\n",
    "\n",
    "final3 = points.mostIsolated_1(data1, lat, lon)\n",
    "print(\"Intial Airport: \") \n",
    "print(\"Max Distance: % \",final3)\n",
    "print(\"Ending Airport:\")\n"
   ]
  },
  {
   "cell_type": "markdown",
   "metadata": {
    "collapsed": true
   },
   "source": [
    "### 3.Find the pair of airports that are separated by the largest distance."
   ]
  },
  {
   "cell_type": "markdown",
   "metadata": {},
   "source": [
    "### 4. Find most isolated using Haversine distance"
   ]
  },
  {
   "cell_type": "code",
   "execution_count": null,
   "metadata": {
    "collapsed": true
   },
   "outputs": [],
   "source": [
    "#Distance start\n",
    "Distance = 0;\n",
    "index = -1\n",
    "data1 = points.read_csv('airports.csv')\n",
    "\n",
    "lat = points.to_float(points.get_attribute(data1, 'latitude'))\n",
    "lon = points.to_float(points.get_attribute(data1, 'longitude'))\n",
    "\n",
    "\n",
    "final3 = points.mostIsolated_2(data1, lat, lon)\n",
    "print(\"Intial Airport: \") \n",
    "print(\"Max Distance: % \",final3)\n",
    "print(\"Ending Airport:\")"
   ]
  },
  {
   "cell_type": "markdown",
   "metadata": {},
   "source": [
    "### 5. Report any major Discrepancies between your answers using Euclidean distance and Great Circle Distance.\n",
    "\n",
    "- Major discrepancies that are seen, are seen when using euclidean distance. When using euclidean distance it is assumed that you are not taking into consideration the spherical shape of the earth when it comes to going from pointA to pointB. It is proven that using Great Circle Distance will result you in having a more accurate distance from PointA to PointB because it takes in the curvature of the earth."
   ]
  }
 ],
 "metadata": {
  "anaconda-cloud": {},
  "kernelspec": {
   "display_name": "Python [conda root]",
   "language": "python",
   "name": "conda-root-py"
  },
  "language_info": {
   "codemirror_mode": {
    "name": "ipython",
    "version": 2
   },
   "file_extension": ".py",
   "mimetype": "text/x-python",
   "name": "python",
   "nbconvert_exporter": "python",
   "pygments_lexer": "ipython2",
   "version": "2.7.12"
  }
 },
 "nbformat": 4,
 "nbformat_minor": 1
}
