{
 "cells": [
  {
   "cell_type": "markdown",
   "metadata": {},
   "source": [
    "# Quan Zhou\n",
    "## This is Python3 Code for GIS 321 Exam1"
   ]
  },
  {
   "cell_type": "code",
   "execution_count": 2,
   "metadata": {
    "collapsed": true
   },
   "outputs": [],
   "source": [
    "\"\"\"\"\"\n",
    "This five functions used in this solutions.\n",
    "--------------------------\n",
    "read_csv:\n",
    "-->import: csv path(string)\n",
    "-->output: list of csv content(list)\n",
    "\n",
    "get_attribute:\n",
    "-->import: list of csv content(list), attribute name(string)\n",
    "-->output: list of attribute values(list)\n",
    "\n",
    "to_float:\n",
    "-->import: list of attribute values(list of string)\n",
    "-->output: list of attribute values(list of float)\n",
    "\n",
    "haversine_distance:\n",
    "-->import: two points(list)\n",
    "-->output: haversine distance of two points(float)\n",
    "\n",
    "min_D:\n",
    "-->import: point(list), list of points(list)\n",
    "-->output: index of nearst point in list(int), distance(float), nearest point(element of points list)\n",
    "--------------------------\n",
    "\"\"\"\"\"\n",
    "import math\n",
    "import csv\n",
    "\n",
    "def read_csv(file_name):\n",
    "    newlines = []\n",
    "    with open(file_name, 'r') as f:\n",
    "        reader = csv.reader(f)\n",
    "        for line in reader:\n",
    "            newlines.append(line)\n",
    "    return newlines\n",
    "\n",
    "def get_attribute(data, attribute_name):\n",
    "    header = data[0]\n",
    "    idx = header.index(attribute_name)\n",
    "    return [record[idx] for record in data[1:]]\n",
    "\n",
    "def to_float(attribute_list):\n",
    "    return list(map(float, attribute_list))\n",
    "\n",
    "def haversine_distance(point1, point2):\n",
    "    # Unit: Km\n",
    "    Lat1, Lon1 = point1\n",
    "    Lat2, Lon2 = point2\n",
    "    lat1 = math.radians(Lat1)\n",
    "    lat2 = math.radians(Lat2)\n",
    "    lon1 = math.radians(Lon1)\n",
    "    lon2 = math.radians(Lon2)\n",
    "    \n",
    "    dlat = lat1 - lat2\n",
    "    dlon = lon1 - lon2\n",
    "    p1 = (math.sin(dlat/2))**2\n",
    "    p2 = math.cos(lat1)*math.cos(lat2)\n",
    "    p3 = (math.sin(dlon/2))**2\n",
    "    r = 12800*math.asin(math.sqrt(p1+p2*p3))\n",
    "    return r\n",
    "\n",
    "def min_D (point,aports):\n",
    "    index = 0\n",
    "    min_dis = float('inf')\n",
    "    for i, airport in enumerate(aports):\n",
    "        if point == airport or airport[1]==9999:\n",
    "            continue\n",
    "        if haversine_distance([point[1],point[2]], [airport[1],airport[2]])<min_dis:\n",
    "            min_dis = haversine_distance([point[1],point[2]], [airport[1],airport[2]])\n",
    "            index = i\n",
    "    return [index,min_dis,aports[index]]"
   ]
  },
  {
   "cell_type": "markdown",
   "metadata": {},
   "source": [
    "## Q1:\n",
    "### To find the route with the shortest possible distance that visits each intermediate city ( Phoenix (KPHX), Johannesburg (FAJS), London (EGLL), New York (KJFK), Sydney (YSSY)) exactly once and returns to the origin city."
   ]
  },
  {
   "cell_type": "code",
   "execution_count": 3,
   "metadata": {
    "collapsed": true
   },
   "outputs": [],
   "source": [
    "# read latitude, longtitude and name of aiports data from data.csv file\n",
    "data = read_csv(\"data.csv\")\n",
    "lat = to_float(get_attribute(data,'latitude'))\n",
    "lon = to_float(get_attribute(data,'longitude'))\n",
    "nms = get_attribute(data,'iaco')\n",
    "points = list(zip(nms,lat,lon))\n",
    "\n",
    "# select the required aiports and store them in a list\n",
    "aports = []\n",
    "for i, airport in enumerate(points):\n",
    "    if airport[0] == 'KPHX' or airport[0] =='FAJS' or airport[0] =='EGLL' or airport[0] =='KJFK'or airport[0] =='YSSY':\n",
    "        aports.append(points[i])"
   ]
  },
  {
   "cell_type": "code",
   "execution_count": 4,
   "metadata": {
    "collapsed": false
   },
   "outputs": [],
   "source": [
    "# find the shortest distances that visits each intermediate city\n",
    "trip = [] # for each trip [[#,*],[#, distance, next_stop],[#, distance, next_stop]...]\n",
    "trips = []  # for all possible trips with [trip1, trip2, trip3, trip4, trip5]\n",
    "for i,start in enumerate(aports): # where to start\n",
    "    ap = aports[:]\n",
    "    next1 = min_D (start,ap)\n",
    "    ap[i] = ('null',9999,9999)\n",
    "    next2 = min_D (aports[next1[0]],ap)\n",
    "    ap[next1[0]] = ('null',9999,9999)\n",
    "    next3 = min_D (aports[next2[0]],ap)\n",
    "    ap[next2[0]] = ('null',9999,9999)\n",
    "    next4 = min_D (aports[next3[0]],ap)\n",
    "    ap[next3[0]] = ('null',9999,9999)\n",
    "    next5 = [i,haversine_distance([ap[0][1],ap[0][2]], [aports[0][1],aports[0][2]])]\n",
    "    trip = [[i,'*'], next1, next2, next3, next4, next5]# each point is the nearest point to last point, the last point is start point\n",
    "    trips.append(trip)"
   ]
  },
  {
   "cell_type": "code",
   "execution_count": 5,
   "metadata": {
    "collapsed": false
   },
   "outputs": [
    {
     "name": "stdout",
     "output_type": "stream",
     "text": [
      "*The shortes trip is 44775.68 km. The order of airport shows as follow:*\n",
      "\n",
      "('YSSY', -33.946111, 151.177222)\n",
      "('FAJS', -26.139166, 28.246)\n",
      "('EGLL', 51.4775, -0.461389)\n",
      "('KJFK', 40.639751, -73.778925)\n",
      "('KPHX', 33.434278, -112.011583)\n"
     ]
    }
   ],
   "source": [
    "# find the shorted trip in all five trips wiht different start point\n",
    "min_Dis = float('inf')\n",
    "index = 0 # the index of each airport in the list\n",
    "sequence = [] # the sequence of airpots in the shortes trip\n",
    "for i, trip in enumerate(trips):\n",
    "    one_trip = 0\n",
    "    for stop in trip[1:]:\n",
    "        one_trip = one_trip + stop[1]\n",
    "    if one_trip<min_Dis:\n",
    "        min_Dis = one_trip\n",
    "        index = i\n",
    "for stop in trips[index]:\n",
    "    sequence.append(aports[stop[0]])        \n",
    "\n",
    "print(\"*The shortes trip is %.2f km. The order of airport shows as follow:*\\n\" %min_Dis)\n",
    "for i in range(5):\n",
    "    print(sequence[i])"
   ]
  },
  {
   "cell_type": "markdown",
   "metadata": {},
   "source": [
    "## Q2:\n",
    "### To provide a list of the countries with borders that intersect the route. For each leg of the route, use 20 equally spaced intermediate points to approximate the leg of the route."
   ]
  },
  {
   "cell_type": "code",
   "execution_count": 6,
   "metadata": {
    "collapsed": false
   },
   "outputs": [
    {
     "name": "stdout",
     "output_type": "stream",
     "text": [
      "Populating the interactive namespace from numpy and matplotlib\n"
     ]
    }
   ],
   "source": [
    "import pyproj\n",
    "import matplotlib.pyplot as plt\n",
    "from shapely.geometry import LineString, asShape\n",
    "import numpy as np\n",
    "import json\n",
    "%pylab inline"
   ]
  },
  {
   "cell_type": "code",
   "execution_count": 18,
   "metadata": {
    "collapsed": false
   },
   "outputs": [
    {
     "name": "stdout",
     "output_type": "stream",
     "text": [
      "*This figure shows the route and the countries crossed by the route.*\n"
     ]
    },
    {
     "data": {
      "image/png": "[encoded data removed]",
      "text/plain": [
       "<matplotlib.figure.Figure at 0x117288588>"
      ]
     },
     "metadata": {},
     "output_type": "display_data"
    }
   ],
   "source": [
    "eline = [] # to store each point int the route of trip\n",
    "g = pyproj.Geod(ellps='WGS84') # to define the projection\n",
    "for i in range(5):\n",
    "    # store each lag of route with 20 equally spaced intermediate points\n",
    "    intermediate = g.npts(sequence[i][2], sequence[i][1], sequence[i+1][2], sequence[i+1][1], 20)\n",
    "    # for the lag across 180E, I devide the lag into:\n",
    "    intermediate1 = [] # lag in the eastern hemisphere\n",
    "    intermediate2 = [] # lag in the western hemisphere\n",
    "    if abs(sequence[i][2]-sequence[i+1][2])>180:\n",
    "        for i,inter in enumerate(intermediate):\n",
    "            if (abs(intermediate[i-1][0]-intermediate[i][0])>180 and i>0):\n",
    "                index = i\n",
    "        for i in intermediate[:index]:\n",
    "            intermediate1.append(i)\n",
    "        eline.extend(intermediate1)\n",
    "        intermediateA = np.array(intermediate1)\n",
    "        plt.plot(intermediateA[:,0],intermediateA[:,1])\n",
    "        for i in intermediate[index:]:\n",
    "            intermediate2.append(i)\n",
    "        eline.extend(intermediate2)\n",
    "        intermediate = np.array(intermediate2)\n",
    "        plt.plot(intermediate[:,0],intermediate[:,1])\n",
    "    else: # for other lags without crossing 180E \n",
    "        intermediate = np.array(intermediate)\n",
    "        eline.extend(intermediate)\n",
    "        plt.plot(intermediate[:,0],intermediate[:,1])\n",
    "        plt.xlim(-200,200)\n",
    "        \n",
    "# read contries polygon form geojson file\n",
    "f = \"countries.geojson\"\n",
    "with open(f, 'r') as infile:\n",
    "    gj = json.load(infile)\n",
    "\n",
    "sf = [] # to store each shape file as a list of point\n",
    "for i,feature in enumerate(gj['features']):\n",
    "    sf.append( asShape(feature['geometry']))\n",
    "eLine = LineString(eline)\n",
    "\n",
    "ef = [] # to store each country crossed by route\n",
    "index = [] # to store the index of each country crossed by route\n",
    "for i,f in enumerate(sf):\n",
    "    if f.crosses(eLine):\n",
    "        ef.append(f)\n",
    "        index.append(i)\n",
    "for f in ef:\n",
    "    try:\n",
    "        plot(*f.exterior.xy)\n",
    "    except:\n",
    "        for geom in f.geoms:\n",
    "            plot(*geom.exterior.xy)\n",
    "print(\"*This figure shows the route and the countries crossed by the route.*\")"
   ]
  },
  {
   "cell_type": "code",
   "execution_count": 7,
   "metadata": {
    "collapsed": false
   },
   "outputs": [
    {
     "name": "stdout",
     "output_type": "stream",
     "text": [
      "*The name of the countries with borders that intersect the route shows as follow:*\n",
      "\n",
      "Angola\n",
      "Australia\n",
      "Bolivia\n",
      "Brazil\n",
      "Botswana\n",
      "Central African Republic\n",
      "Canada\n",
      "Democratic Republic of the Congo\n",
      "Algeria\n",
      "France\n",
      "United Kingdom\n",
      "Ireland\n",
      "Libya\n",
      "Madagascar\n",
      "Mexico\n",
      "Mozambique\n",
      "Namibia\n",
      "Niger\n",
      "Peru\n",
      "French Polynesia\n",
      "Chad\n",
      "Tunisia\n",
      "United States of America\n",
      "Vanuatu\n",
      "South Africa\n",
      "Zambia\n",
      "Zimbabwe\n"
     ]
    }
   ],
   "source": [
    "countries = [] # to store the countries' name crossed by the route \n",
    "for i in index:\n",
    "    countries.append(gj['features'][i]['properties']['ADMIN'])\n",
    "print(\"*The name of the countries with borders that intersect the route shows as follow:*\\n\")\n",
    "for i in countries:\n",
    "    print (i)"
   ]
  },
  {
   "cell_type": "code",
   "execution_count": null,
   "metadata": {
    "collapsed": true
   },
   "outputs": [],
   "source": []
  }
 ],
 "metadata": {
  "anaconda-cloud": {},
  "kernelspec": {
   "display_name": "Python [conda env:QuanPython3]",
   "language": "python",
   "name": "conda-env-QuanPython3-py"
  },
  "language_info": {
   "codemirror_mode": {
    "name": "ipython",
    "version": 3
   },
   "file_extension": ".py",
   "mimetype": "text/x-python",
   "name": "python",
   "nbconvert_exporter": "python",
   "pygments_lexer": "ipython3",
   "version": "3.4.5"
  }
 },
 "nbformat": 4,
 "nbformat_minor": 1
}
