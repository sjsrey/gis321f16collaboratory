{
 "cells": [
  {
   "cell_type": "code",
   "execution_count": 13,
   "metadata": {
    "collapsed": true
   },
   "outputs": [],
   "source": [
    "#import the necessary module\n",
    "import math\n",
    "\n",
    "#create a class called Feature\n",
    "class Feature(object): \n",
    "    #create necessary methods within the class (Feature) to use for the assignment \n",
    "    \n",
    "    # The __init__ method is a special function that is run when an object is created\n",
    "    def __init__(self, featureDict):\n",
    "        self.geometry = featureDict[\"geometry\"]\n",
    "        self.properties = featureDict[\"properties\"]\n",
    "        self.airport_list = []\n",
    "        \n",
    "        # Minimum bounding rectangle is stored as \n",
    "        # [[upperleft x, upperleft y], [lowerright x, lowerright y]]\n",
    "        self.mbr = [[float('inf'),-float('inf')],[-float('inf'),float('inf')]]\n",
    "        if self.geometry[\"type\"] == \"Polygon\":\n",
    "            self.mbr = self.getPolygonMBR(self.geometry[\"coordinates\"])\n",
    "        elif self.geometry[\"type\"] == \"MultiPolygon\":\n",
    "            self.mbr = self.getMultiPolygonMBR(self.geometry[\"coordinates\"])\n",
    "        else:\n",
    "            print(\"Not a valid geometry\")\n",
    "    \n",
    "    #method to see if a point is within the MBR\n",
    "    def isPointInMBR(self, point):\n",
    "        \"\"\"\n",
    "        Takes point as (x,y) pair\n",
    "        \"\"\"\n",
    "        return point[0] > self.mbr[0][0] and point[0] < self.mbr[1][0] and point[1] < self.mbr[0][1] and point[1] > self.mbr[1][1] \n",
    "    \n",
    "    #method to define the MBR of the polygon\n",
    "    def getPolygonMBR(self, polygon_coords):\n",
    "        mbr = [[float('inf'),-float('inf')],[-float('inf'),float('inf')]]\n",
    "        for point in polygon_coords[0]: # Only check the bounds of the first (outer) ring\n",
    "            if point[0] < mbr[0][0]:\n",
    "               mbr[0][0] = point[0]\n",
    "            if point[0] > mbr[1][0]:\n",
    "               mbr[1][0] = point[0]\n",
    "            if point[1] > mbr[0][1]:\n",
    "               mbr[0][1] = point[1]\n",
    "            if point[1] < mbr[1][1]:\n",
    "               mbr[1][1] = point[1]\n",
    "        return mbr\n",
    "    \n",
    "    #method to get the MBR for multipolygons\n",
    "    def getMultiPolygonMBR(self, multipolygon_coords):\n",
    "        mbr = [[float('inf'),-float('inf')],[-float('inf'),float('inf')]]\n",
    "        for polygon in multipolygon_coords:\n",
    "            tmbr = self.getPolygonMBR(polygon)\n",
    "            # Check if any coordinate in the polygon's MBR extends the existing MBR\n",
    "            if tmbr[0][0] <  mbr[0][0]:\n",
    "                mbr[0][0] = tmbr[0][0]\n",
    "            if tmbr[1][0] >  mbr[1][0]:\n",
    "                mbr[1][0] = tmbr[1][0]\n",
    "            if tmbr[0][1] >  mbr[0][1]:\n",
    "                mbr[0][1] = tmbr[0][1]\n",
    "            if tmbr[1][1] <  mbr[1][1]:\n",
    "                mbr[1][1] = tmbr[1][1]\n",
    "        return mbr"
   ]
  },
  {
   "cell_type": "markdown",
   "metadata": {},
   "source": [
    "Eventually I will place these in a text document and simply just call the methods, instead of having them written out in my code.  "
   ]
  },
  {
   "cell_type": "code",
   "execution_count": 36,
   "metadata": {
    "collapsed": false
   },
   "outputs": [],
   "source": [
    "#import the necessary module\n",
    "import json\n",
    "\n",
    "#read in the countries file\n",
    "f = \"countries.geojson\"\n",
    "with open(f, 'r') as infile:\n",
    "    g = json.load(infile)\n",
    "\n",
    "#move features from the JSON file to the newly created class: Feature\n",
    "features = []\n",
    "for f in g[\"features\"]:\n",
    "    features.append(Feature(f))"
   ]
  },
  {
   "cell_type": "markdown",
   "metadata": {},
   "source": [
    "## For each Feature add a new attribute that lists the airports contained in its MBR"
   ]
  },
  {
   "cell_type": "code",
   "execution_count": 39,
   "metadata": {
    "collapsed": false
   },
   "outputs": [],
   "source": [
    "#import points module used in E5 to read in cvs file\n",
    "import points1\n",
    "\n",
    "#bring in and read the airport data\n",
    "data = 'airports.csv'\n",
    "newlines = points1.read_csv(data)\n",
    "header = newlines[0] #create this to use for indexing in the next cell"
   ]
  },
  {
   "cell_type": "code",
   "execution_count": 45,
   "metadata": {
    "collapsed": false
   },
   "outputs": [],
   "source": [
    "#index the appropriate columns to reference for the airport list\n",
    "lat = header.index(\"latitude\")\n",
    "lon = header.index(\"longitude\")\n",
    "idx = header.index(\"airport_id\")\n",
    "airport_list = []\n",
    "\n",
    "#loop through all features and all airports for each feature in the newlines dataset\n",
    "#add airports that are within the MBR to the list airport_list using the variables above\n",
    "for country in features:\n",
    "    for airport in newlines:\n",
    "        if country.isPointInMBR((airport[lon], airport[lat])):\n",
    "            country.airport_list.append(airport[idx])"
   ]
  }
 ],
 "metadata": {
  "kernelspec": {
   "display_name": "Python [Root]",
   "language": "python",
   "name": "Python [Root]"
  },
  "language_info": {
   "codemirror_mode": {
    "name": "ipython",
    "version": 2
   },
   "file_extension": ".py",
   "mimetype": "text/x-python",
   "name": "python",
   "nbconvert_exporter": "python",
   "pygments_lexer": "ipython2",
   "version": "2.7.12"
  }
 },
 "nbformat": 4,
 "nbformat_minor": 0
}
