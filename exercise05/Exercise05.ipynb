{
 "cells": [
  {
   "cell_type": "markdown",
   "metadata": {},
   "source": [
    "# Exercise 5: Airport Distances"
   ]
  },
  {
   "cell_type": "code",
   "execution_count": 5,
   "metadata": {
    "collapsed": false
   },
   "outputs": [
    {
     "data": {
      "text/plain": [
       "['airport_id',\n",
       " 'name',\n",
       " 'city',\n",
       " 'country',\n",
       " 'iata_faa',\n",
       " 'iaco',\n",
       " 'latitude',\n",
       " 'longitude',\n",
       " 'altitude',\n",
       " 'zone',\n",
       " 'dst']"
      ]
     },
     "execution_count": 5,
     "metadata": {},
     "output_type": "execute_result"
    }
   ],
   "source": [
    "import points\n",
    "path = '../exercise04/airports.csv'\n",
    "header, data = points.read_airport_csv(path)\n",
    "header"
   ]
  },
  {
   "cell_type": "markdown",
   "metadata": {
    "collapsed": false
   },
   "source": [
    "### 1. Function to get list of nearest neighbors using Eulidean distance.\n",
    "\n",
    "See points/distance.py, function `get_neighbor_list`.  It takes two functions as arguments: the distance function (`euclidean_distance` or `great_circle_distance`) and the function for what type of neighbor to get (currect options are `nearest_airport` and `furthest_airport`; could be extended to more complex things like \"closest foreign airport\" or \"airport with the most similar name\")."
   ]
  },
  {
   "cell_type": "code",
   "execution_count": 6,
   "metadata": {
    "collapsed": false
   },
   "outputs": [],
   "source": [
    "points.get_neighbor_list?"
   ]
  },
  {
   "cell_type": "code",
   "execution_count": 7,
   "metadata": {
    "collapsed": false
   },
   "outputs": [
    {
     "name": "stdout",
     "output_type": "stream",
     "text": [
      "Found nearest neighbors for all 6977 airports.  First entry:\n",
      "(1, 5420, 0.42477695483866257)\n"
     ]
    }
   ],
   "source": [
    "# Get list of nearest neighbors for each airport (takes about a minute)\n",
    "nn_list_euclidean = points.get_neighbor_list(header, data, neighbor_function=points.nearest_airport, dist_function=points.euclidean_distance)\n",
    "print(\"Found nearest neighbors for all %d airports.  First entry:\"%(len(nn_list_euclidean)) )\n",
    "print(nn_list_euclidean[0])"
   ]
  },
  {
   "cell_type": "markdown",
   "metadata": {},
   "source": [
    "### 2. Find the most isolated airport using Euclidean distance."
   ]
  },
  {
   "cell_type": "code",
   "execution_count": 8,
   "metadata": {
    "collapsed": false
   },
   "outputs": [
    {
     "name": "stdout",
     "output_type": "stream",
     "text": [
      "[2033, 'South Pole Station', \"Stephen's Island\", 'Antarctica', '', 'NZSP', -89.999997, 0.0, 9300.0, 127.0, 'U']\n",
      "Nearest neighbor (51.010 degrees away):\n",
      "[6436, 'Grytviken', 'Grytviken', 'South Georgia and the Islands', '', '', -54.16534, -36.30288, 0.0, -2.0, 'N']\n"
     ]
    }
   ],
   "source": [
    "# Get most isolated airport from the list made in the previous cell\n",
    "max_distance = -1\n",
    "most_remote_airport_id_euclidean = -1\n",
    "most_remote_airport_neighbor_id_euclidean = -1\n",
    "for id1, id2, dist in nn_list_euclidean:\n",
    "    if dist > max_distance:\n",
    "        most_remote_airport_id_euclidean = id1\n",
    "        most_remote_airport_neighbor_id_euclidean = id2\n",
    "        max_distance = dist\n",
    "#\n",
    "\n",
    "print (points.get_airport_by_id(header, data, most_remote_airport_id_euclidean))\n",
    "print (\"Nearest neighbor (%.3f degrees away):\"%(max_distance))\n",
    "print (points.get_airport_by_id(header, data, most_remote_airport_neighbor_id_euclidean))"
   ]
  },
  {
   "cell_type": "markdown",
   "metadata": {
    "collapsed": false
   },
   "source": [
    "### 3. Find the pair of airports that are separated by the largest Euclidean distance\n",
    "\n",
    "Uses the function \"furthest_airport\" in points.distance, which is basically identical to the \"nearest_airport\" function used above."
   ]
  },
  {
   "cell_type": "code",
   "execution_count": 9,
   "metadata": {
    "collapsed": false
   },
   "outputs": [
    {
     "name": "stdout",
     "output_type": "stream",
     "text": [
      "Found most distant airports from all 6977 airports.  First entry:\n",
      "(1, 5959, 327.21204493103073)\n",
      "Furthest pair of airports is Chatham Islands and Ugolny Airport (370.5 degrees apart):\n",
      "[2010, 'Chatham Islands', 'Chatham Island', 'New Zealand', 'CHT', 'NZCI', -43.81, -176.457222, 43.0, 13.0, 'Z']\n",
      "[6098, 'Ugolny Airport', 'Anadyr', 'Russia', 'DYR', 'UHMA', 64.73495, 177.741483, 194.0, 12.0, 'N']\n"
     ]
    }
   ],
   "source": [
    "fn_list_euclidean = points.get_neighbor_list(header, data, neighbor_function=points.furthest_airport, dist_function=points.euclidean_distance)\n",
    "print(\"Found most distant airports from all %d airports.  First entry:\"%(len(fn_list_euclidean)) )\n",
    "print(fn_list_euclidean[0])\n",
    "\n",
    "# Get most isolated airport from the list made in the previous cell\n",
    "max_distance = -1\n",
    "most_remote_airport_id_euclidean = -1\n",
    "most_remote_airport_neighbor_id_euclidean = -1\n",
    "for id1, id2, dist in fn_list_euclidean:\n",
    "    if dist > max_distance:\n",
    "        most_remote_airport_id_euclidean = id1\n",
    "        most_remote_airport_neighbor_id_euclidean = id2\n",
    "        max_distance = dist\n",
    "#\n",
    "\n",
    "apt1 = points.get_airport_by_id(header, data, most_remote_airport_id_euclidean)\n",
    "apt2 = points.get_airport_by_id(header, data, most_remote_airport_neighbor_id_euclidean)\n",
    "name_idx = header.index(\"name\")\n",
    "print (\"Furthest pair of airports is %s and %s (%.3f degrees apart):\"%(apt1[name_idx], apt2[name_idx], max_distance))\n",
    "print (apt1)\n",
    "print (apt2)"
   ]
  },
  {
   "cell_type": "markdown",
   "metadata": {
    "collapsed": false
   },
   "source": [
    "### 4.1. Function to get list of nearest neighbors using Great Circle distance.\n",
    "\n",
    "Same as above, but changing the distance function to haversine_distance (I could also leave the dist_function unspecified, as haversine is the default for all my distance-calculating functions)."
   ]
  },
  {
   "cell_type": "code",
   "execution_count": 10,
   "metadata": {
    "collapsed": false
   },
   "outputs": [
    {
     "name": "stdout",
     "output_type": "stream",
     "text": [
      "Found nearest neighbors for all 6977 airports.  First entry:\n",
      "(1, 5420, 0.4224520703921)\n"
     ]
    }
   ],
   "source": [
    "# Get list of nearest neighbors for each airport (takes about a minute)\n",
    "nn_list_great_circle = points.get_neighbor_list(header, data, neighbor_function=points.nearest_airport, dist_function=points.great_circle_distance)\n",
    "print(\"Found nearest neighbors for all %d airports.  First entry:\"%(len(nn_list_great_circle)) )\n",
    "print(nn_list_great_circle[0])"
   ]
  },
  {
   "cell_type": "markdown",
   "metadata": {},
   "source": [
    "### 4.2. Find the most isolated airport using Great Circle distance."
   ]
  },
  {
   "cell_type": "code",
   "execution_count": 11,
   "metadata": {
    "collapsed": false
   },
   "outputs": [
    {
     "name": "stdout",
     "output_type": "stream",
     "text": [
      "[2657, 'Mataveri Intl', 'Easter Island', 'Chile', 'IPC', 'SCIP', -27.164792, -109.421831, 227.0, -6.0, 'S']\n",
      "Nearest neighbor (23.376 degrees away):\n",
      "[1979, 'Totegegie', 'Totegegie', 'French Polynesia', 'GMR', 'NTGJ', -23.079861, -134.890333, 7.0, -9.0, 'U']\n"
     ]
    }
   ],
   "source": [
    "# Get most isolated airport from the list made in the previous cell\n",
    "max_distance = -1\n",
    "most_remote_airport_id_great_circle = -1\n",
    "most_remote_airport_neighbor_id_great_circle = -1\n",
    "for id1, id2, dist in nn_list_great_circle:\n",
    "    if dist > max_distance:\n",
    "        most_remote_airport_id_great_circle = id1\n",
    "        most_remote_airport_neighbor_id_great_circle = id2\n",
    "        max_distance = dist\n",
    "#\n",
    "\n",
    "print (points.get_airport_by_id(header, data, most_remote_airport_id_great_circle))\n",
    "print (\"Nearest neighbor (%.3f degrees away):\"%(max_distance))\n",
    "print (points.get_airport_by_id(header, data, most_remote_airport_neighbor_id_great_circle))"
   ]
  },
  {
   "cell_type": "markdown",
   "metadata": {
    "collapsed": false
   },
   "source": [
    "### 4.3. Find the pair of airports that are separated by the largest Great Circle distance"
   ]
  },
  {
   "cell_type": "code",
   "execution_count": 13,
   "metadata": {
    "collapsed": false
   },
   "outputs": [
    {
     "name": "stdout",
     "output_type": "stream",
     "text": [
      "Found most distant airports from all 6977 airports.  First entry:\n",
      "(1, 2556, 169.8267088592113)\n",
      "Furthest pair of airports is Benito Salas and Sultan Mahmud Badaruddin Ii (179.948 degrees apart):\n",
      "[2734, 'Benito Salas', 'Neiva', 'Colombia', 'NVA', 'SKNV', 2.95015, -75.294, 1464.0, -5.0, 'U']\n",
      "[3289, 'Sultan Mahmud Badaruddin Ii', 'Palembang', 'Indonesia', 'PLM', 'WIPP', -2.89825, 104.699903, 49.0, 7.0, 'U']\n"
     ]
    }
   ],
   "source": [
    "fn_list_great_circle = points.get_neighbor_list(header, data, neighbor_function=points.furthest_airport, dist_function=points.great_circle_distance)\n",
    "print(\"Found most distant airports from all %d airports.  First entry:\"%(len(fn_list_great_circle)) )\n",
    "print(fn_list_great_circle[0])\n",
    "\n",
    "# Get most isolated airport from the list made in the previous cell\n",
    "max_distance = -1\n",
    "most_remote_airport_id_great_circle = -1\n",
    "most_remote_airport_neighbor_id_great_circle = -1\n",
    "for id1, id2, dist in fn_list_great_circle:\n",
    "    if dist > max_distance:\n",
    "        most_remote_airport_id_great_circle = id1\n",
    "        most_remote_airport_neighbor_id_great_circle = id2\n",
    "        max_distance = dist\n",
    "#\n",
    "\n",
    "apt1 = points.get_airport_by_id(header, data, most_remote_airport_id_great_circle)\n",
    "apt2 = points.get_airport_by_id(header, data, most_remote_airport_neighbor_id_great_circle)\n",
    "name_idx = header.index(\"name\")\n",
    "print (\"Furthest pair of airports is %s and %s (%.3f degrees apart):\"%(apt1[name_idx], apt2[name_idx], max_distance))\n",
    "print (apt1)\n",
    "print (apt2)"
   ]
  },
  {
   "cell_type": "markdown",
   "metadata": {
    "collapsed": true
   },
   "source": [
    "### 5. Major Discrepancies\n",
    "\n",
    "The most obvious difference is the pair of airports separated by the greatest distance- in Euclidean distance, which assumes the world is flat with four edges, the greatest distance is (roughly) from Siberia to New Zealand, with a distance of 370 degrees (clearly wrong, as no two points on a sphere can be more distant than 180 degrees).  The great circle answer is much nicer in that respect, with a distance of only 179.9 degrees. \n",
    "\n",
    "The most isolated airport also changes- it's less obvious that the Euclidean version is wrong, as it shows an antarctican airport, but there are multiple airports in antarctica.  The great circle answer of Easter Island is clearly better, though, as it's also (I believe) the most isolated chunk of land in the world."
   ]
  },
  {
   "cell_type": "markdown",
   "metadata": {},
   "source": [
    "### 6. Further investigations to try\n",
    "\n",
    "- How many \"farthest away airport\" pairs are over 179 degrees?\n",
    "- What's the least distant pair of farthest-away airports?\n",
    "- What is the actual nearest airport (and distance) for South Pole Station (ID 2033)?\n",
    "- What's the most distant airport from Chatham Islands (ID 2010)?\n"
   ]
  }
 ],
 "metadata": {
  "anaconda-cloud": {},
  "kernelspec": {
   "display_name": "Python [Root]",
   "language": "python",
   "name": "Python [Root]"
  },
  "language_info": {
   "codemirror_mode": {
    "name": "ipython",
    "version": 3
   },
   "file_extension": ".py",
   "mimetype": "text/x-python",
   "name": "python",
   "nbconvert_exporter": "python",
   "pygments_lexer": "ipython3",
   "version": "3.5.2"
  }
 },
 "nbformat": 4,
 "nbformat_minor": 0
}
