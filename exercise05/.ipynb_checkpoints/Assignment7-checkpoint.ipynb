{
 "cells": [
  {
   "cell_type": "code",
   "execution_count": 18,
   "metadata": {
    "collapsed": true
   },
   "outputs": [],
   "source": [
    "#import necessary package for assingment 7\n",
    "import numpy as np"
   ]
  },
  {
   "cell_type": "code",
   "execution_count": 19,
   "metadata": {
    "collapsed": true
   },
   "outputs": [],
   "source": [
    "#Republicans are assigned value of 1 and Democrats are assigned value of zero\n",
    "R = 1\n",
    "D = 0"
   ]
  },
  {
   "cell_type": "code",
   "execution_count": 20,
   "metadata": {
    "collapsed": false
   },
   "outputs": [],
   "source": [
    "# Data:\n",
    "state_history = [\n",
    "[R,D,R,R,R,R,R,R,R,R,R],\n",
    "[R,R,R,R,R,R,R,R,R,R,R],\n",
    "[R,R,R,R,R,R,D,R,R,R,R],\n",
    "[R,D,R,R,R,D,D,R,R,R,R],\n",
    "[R,R,R,R,R,D,D,D,D,D,D],\n",
    "[R,R,R,R,R,D,R,R,R,D,D],\n",
    "[R,R,R,R,R,D,D,D,D,D,D],\n",
    "[R,D,R,R,R,D,D,D,D,D,D],\n",
    "[D,D,D,D,D,D,D,D,D,D,D],\n",
    "[R,D,R,R,R,R,D,R,R,D,D],\n",
    "[R,D,D,R,R,D,R,R,R,R,R],\n",
    "[R,D,D,R,D,D,D,D,D,D,D],\n",
    "[R,R,R,R,R,R,R,R,R,R,R],\n",
    "[R,R,R,R,R,D,D,D,D,D,D],\n",
    "[R,R,R,R,R,R,R,R,R,D,R],\n",
    "[R,R,R,R,D,D,D,D,R,D,D],\n",
    "[R,R,R,R,R,R,R,R,R,R,R],\n",
    "[R,D,R,R,R,D,D,R,R,R,R],\n",
    "[R,D,R,R,R,D,D,R,R,R,R],\n",
    "[R,R,R,R,R,D,D,D,D,D,D],\n",
    "[R,D,D,R,R,D,D,D,D,D,D],\n",
    "[D,D,R,R,D,D,D,D,D,D,D],\n",
    "[R,R,R,R,R,D,D,D,D,D,D],\n",
    "[R,D,D,D,D,D,D,D,D,D,D],\n",
    "[R,D,R,R,R,R,R,R,R,R,R],\n",
    "[R,D,R,R,R,D,D,R,R,R,R],\n",
    "[R,R,R,R,R,D,R,R,R,R,R],\n",
    "[R,R,R,R,R,R,R,R,R,R,R],\n",
    "[R,R,R,R,R,D,D,R,R,D,D],\n",
    "[R,R,R,R,R,D,D,R,D,D,D],\n",
    "[R,R,R,R,R,D,D,D,D,D,D],\n",
    "[R,R,R,R,R,D,D,D,R,D,D],\n",
    "[R,D,R,R,D,D,D,D,D,D,D],\n",
    "[R,D,R,R,R,R,R,R,R,D,R],\n",
    "[R,R,R,R,R,R,R,R,R,R,R],\n",
    "[R,D,R,R,R,D,D,R,R,D,D],\n",
    "[R,R,R,R,R,R,R,R,R,R,R],\n",
    "[R,R,R,R,D,D,D,D,D,D,D],\n",
    "[R,D,R,R,R,D,D,D,D,D,D],\n",
    "[R,D,D,R,D,D,D,D,D,D,D],\n",
    "[R,D,R,R,R,R,R,R,R,R,R],\n",
    "[R,R,R,R,R,R,R,R,R,R,R],\n",
    "[R,D,R,R,R,D,D,R,R,R,R],\n",
    "[R,D,R,R,R,R,R,R,R,R,R],\n",
    "[R,R,R,R,R,R,R,R,R,R,R],\n",
    "[R,R,R,R,R,D,D,D,D,D,D],\n",
    "[R,R,R,R,R,R,R,R,R,D,D],\n",
    "[R,R,R,R,D,D,D,D,D,D,D],\n",
    "[R,D,D,R,D,D,D,R,R,R,R],\n",
    "[R,D,R,R,D,D,D,D,D,D,D],\n",
    "[R,R,R,R,R,R,R,R,R,R,R]]"
   ]
  },
  {
   "cell_type": "code",
   "execution_count": 22,
   "metadata": {
    "collapsed": false
   },
   "outputs": [
    {
     "data": {
      "text/plain": [
       "array([[1, 0, 1, 1, 1, 1, 1, 1, 1, 1, 1],\n",
       "       [1, 1, 1, 1, 1, 1, 1, 1, 1, 1, 1],\n",
       "       [1, 1, 1, 1, 1, 1, 0, 1, 1, 1, 1],\n",
       "       [1, 0, 1, 1, 1, 0, 0, 1, 1, 1, 1],\n",
       "       [1, 1, 1, 1, 1, 0, 0, 0, 0, 0, 0],\n",
       "       [1, 1, 1, 1, 1, 0, 1, 1, 1, 0, 0],\n",
       "       [1, 1, 1, 1, 1, 0, 0, 0, 0, 0, 0],\n",
       "       [1, 0, 1, 1, 1, 0, 0, 0, 0, 0, 0],\n",
       "       [0, 0, 0, 0, 0, 0, 0, 0, 0, 0, 0],\n",
       "       [1, 0, 1, 1, 1, 1, 0, 1, 1, 0, 0],\n",
       "       [1, 0, 0, 1, 1, 0, 1, 1, 1, 1, 1],\n",
       "       [1, 0, 0, 1, 0, 0, 0, 0, 0, 0, 0],\n",
       "       [1, 1, 1, 1, 1, 1, 1, 1, 1, 1, 1],\n",
       "       [1, 1, 1, 1, 1, 0, 0, 0, 0, 0, 0],\n",
       "       [1, 1, 1, 1, 1, 1, 1, 1, 1, 0, 1],\n",
       "       [1, 1, 1, 1, 0, 0, 0, 0, 1, 0, 0],\n",
       "       [1, 1, 1, 1, 1, 1, 1, 1, 1, 1, 1],\n",
       "       [1, 0, 1, 1, 1, 0, 0, 1, 1, 1, 1],\n",
       "       [1, 0, 1, 1, 1, 0, 0, 1, 1, 1, 1],\n",
       "       [1, 1, 1, 1, 1, 0, 0, 0, 0, 0, 0],\n",
       "       [1, 0, 0, 1, 1, 0, 0, 0, 0, 0, 0],\n",
       "       [0, 0, 1, 1, 0, 0, 0, 0, 0, 0, 0],\n",
       "       [1, 1, 1, 1, 1, 0, 0, 0, 0, 0, 0],\n",
       "       [1, 0, 0, 0, 0, 0, 0, 0, 0, 0, 0],\n",
       "       [1, 0, 1, 1, 1, 1, 1, 1, 1, 1, 1],\n",
       "       [1, 0, 1, 1, 1, 0, 0, 1, 1, 1, 1],\n",
       "       [1, 1, 1, 1, 1, 0, 1, 1, 1, 1, 1],\n",
       "       [1, 1, 1, 1, 1, 1, 1, 1, 1, 1, 1],\n",
       "       [1, 1, 1, 1, 1, 0, 0, 1, 1, 0, 0],\n",
       "       [1, 1, 1, 1, 1, 0, 0, 1, 0, 0, 0],\n",
       "       [1, 1, 1, 1, 1, 0, 0, 0, 0, 0, 0],\n",
       "       [1, 1, 1, 1, 1, 0, 0, 0, 1, 0, 0],\n",
       "       [1, 0, 1, 1, 0, 0, 0, 0, 0, 0, 0],\n",
       "       [1, 0, 1, 1, 1, 1, 1, 1, 1, 0, 1],\n",
       "       [1, 1, 1, 1, 1, 1, 1, 1, 1, 1, 1],\n",
       "       [1, 0, 1, 1, 1, 0, 0, 1, 1, 0, 0],\n",
       "       [1, 1, 1, 1, 1, 1, 1, 1, 1, 1, 1],\n",
       "       [1, 1, 1, 1, 0, 0, 0, 0, 0, 0, 0],\n",
       "       [1, 0, 1, 1, 1, 0, 0, 0, 0, 0, 0],\n",
       "       [1, 0, 0, 1, 0, 0, 0, 0, 0, 0, 0],\n",
       "       [1, 0, 1, 1, 1, 1, 1, 1, 1, 1, 1],\n",
       "       [1, 1, 1, 1, 1, 1, 1, 1, 1, 1, 1],\n",
       "       [1, 0, 1, 1, 1, 0, 0, 1, 1, 1, 1],\n",
       "       [1, 0, 1, 1, 1, 1, 1, 1, 1, 1, 1],\n",
       "       [1, 1, 1, 1, 1, 1, 1, 1, 1, 1, 1],\n",
       "       [1, 1, 1, 1, 1, 0, 0, 0, 0, 0, 0],\n",
       "       [1, 1, 1, 1, 1, 1, 1, 1, 1, 0, 0],\n",
       "       [1, 1, 1, 1, 0, 0, 0, 0, 0, 0, 0],\n",
       "       [1, 0, 0, 1, 0, 0, 0, 1, 1, 1, 1],\n",
       "       [1, 0, 1, 1, 0, 0, 0, 0, 0, 0, 0],\n",
       "       [1, 1, 1, 1, 1, 1, 1, 1, 1, 1, 1]])"
      ]
     },
     "execution_count": 22,
     "metadata": {},
     "output_type": "execute_result"
    }
   ],
   "source": [
    "#place values for D and R in numpy array\n",
    "state_history = np.array(state_history)\n",
    "state_history"
   ]
  },
  {
   "cell_type": "code",
   "execution_count": 23,
   "metadata": {
    "collapsed": true
   },
   "outputs": [],
   "source": [
    "#create variable for last votes for each state\n",
    "state_last_vote = [v[-1] for v in state_history]"
   ]
  },
  {
   "cell_type": "code",
   "execution_count": 24,
   "metadata": {
    "collapsed": true
   },
   "outputs": [],
   "source": [
    "#create list of state names\n",
    "state_names = [\n",
    "\"Alabama\",\n",
    "\"Alaska\",\n",
    "\"Arizona\",\n",
    "\"Arkansas\",\n",
    "\"California\",\n",
    "\"Colorado\",\n",
    "\"Connecticut\",\n",
    "\"Delaware\",\n",
    "\"D.C.\",\n",
    "\"Florida\",\n",
    "\"Georgia\",\n",
    "\"Hawaii\",\n",
    "\"Idaho\",\n",
    "\"Illinois\",\n",
    "\"Indiana\",\n",
    "\"Iowa\",\n",
    "\"Kansas\",\n",
    "\"Kentucky\",\n",
    "\"Louisiana\",\n",
    "\"Maine\",\n",
    "\"Maryland\",\n",
    "\"Massachusetts\",\n",
    "\"Michigan\",\n",
    "\"Minnesota\",\n",
    "\"Mississippi\",\n",
    "\"Missouri\",\n",
    "\"Montana\",\n",
    "\"Nebraska\",\n",
    "\"Nevada\",\n",
    "\"New Hampshire\",\n",
    "\"New Jersey\",\n",
    "\"New Mexico\",\n",
    "\"New York\",\n",
    "\"North Carolina\",\n",
    "\"North Dakota\",\n",
    "\"Ohio\",\n",
    "\"Oklahoma\",\n",
    "\"Oregon\",\n",
    "\"Pennsylvania\",\n",
    "\"Rhode Island\",\n",
    "\"South Carolina\",\n",
    "\"South Dakota\",\n",
    "\"Tennessee\",\n",
    "\"Texas\",\n",
    "\"Utah\",\n",
    "\"Vermont\",\n",
    "\"Virginia\",\n",
    "\"Washington\",\n",
    "\"West Virginia\",\n",
    "\"Wisconsin\",\n",
    "\"Wyoming\"]"
   ]
  },
  {
   "cell_type": "code",
   "execution_count": 6,
   "metadata": {
    "collapsed": true
   },
   "outputs": [],
   "source": [
    "# Same order as state_names.\n",
    "# Data from 2012 column of https://en.wikipedia.org/wiki/Electoral_College_(United_States)#Chronological_table\n",
    "state_electors = [9, 3, 11, 6, 5, 9, 7, 3, 3, 29, 16, 4, 4, 20, 11, 6, 6, 8, 8, 4, 10, 11, 16, 10, 6, 10, 3, 5, 6, 4, 14, 5, 29, 15, 3, 18, 7, 7, 20, 4, 9, 3, 11, 38, 6, 3, 13, 12, 5, 10, 3]"
   ]
  },
  {
   "cell_type": "code",
   "execution_count": 25,
   "metadata": {
    "collapsed": false
   },
   "outputs": [],
   "source": [
    "#b = (state_history == R) * 1\n",
    "#b"
   ]
  },
  {
   "cell_type": "code",
   "execution_count": 26,
   "metadata": {
    "collapsed": false
   },
   "outputs": [
    {
     "name": "stdout",
     "output_type": "stream",
     "text": [
      "[[ 141.   40.]\n",
      " [  65.  264.]]\n"
     ]
    }
   ],
   "source": [
    "#determine the transition matrix for the election\n",
    "transitions = np.zeros((2,2))\n",
    "for state in state_history:\n",
    "    for i in range(1, len(state)):\n",
    "        transitions[state[i-1], state[i]] += 1\n",
    "print(transitions)"
   ]
  },
  {
   "cell_type": "code",
   "execution_count": 27,
   "metadata": {
    "collapsed": false
   },
   "outputs": [
    {
     "name": "stdout",
     "output_type": "stream",
     "text": [
      "[ 181.  329.]\n"
     ]
    }
   ],
   "source": [
    "#sum the rows of the transition matrix\n",
    "row_sum = transitions.sum(axis=1) \n",
    "print(row_sum)"
   ]
  },
  {
   "cell_type": "code",
   "execution_count": 10,
   "metadata": {
    "collapsed": false
   },
   "outputs": [
    {
     "name": "stdout",
     "output_type": "stream",
     "text": [
      "[[ 0.77900552  0.22099448]\n",
      " [ 0.19756839  0.80243161]]\n"
     ]
    }
   ],
   "source": [
    "#construct the probability matrix\n",
    "P = np.dot(np.diag(1/row_sum), transitions)\n",
    "print(P)"
   ]
  },
  {
   "cell_type": "code",
   "execution_count": 28,
   "metadata": {
    "collapsed": true
   },
   "outputs": [],
   "source": [
    "#necessary functions for markov chain analysis\n",
    "\n",
    "def get_markov_states(p_matrix, current_states):\n",
    "    \"\"\"\n",
    "    Create a set of results based on a set of current states and a probability matrix\n",
    "    \n",
    "    Inputs:\n",
    "    p_matrix: 2x2 matrix\n",
    "       Row index is initial state, column index is resulting state\n",
    "    current_states: 1d array\n",
    "       Values are the current states, must be 1 or 0\n",
    "       \n",
    "    Output:\n",
    "    resulting_state: 1d array\n",
    "        The final state of each element in current_state, based on the probability matrix\n",
    "    \"\"\"\n",
    "    # Generate a set of random values\n",
    "    random_values = np.random.rand(len(current_states))\n",
    "    \n",
    "    # Create an array that gives true if the state will be 1, false if it will be 0\n",
    "    is_one = np.array([(r > p_matrix[int(h),0]) for h,r in zip(current_states,random_values)])\n",
    "    \n",
    "    # Set the output array values\n",
    "    result = np.zeros(len(current_states))\n",
    "    result[is_one] = 1\n",
    "    \n",
    "    return result\n",
    "\n",
    "def eval_electoral_college(elector_counts, state_status):\n",
    "    \"\"\"\n",
    "    Tally up electoral votes based on an array of state results\n",
    "    \n",
    "    Inputs:\n",
    "    elector_counts: 1d array\n",
    "       Contains Electoral College elector counts for each state\n",
    "    state_status: 1d array\n",
    "       Contains the vote result for each state, where the value will be the index of the\n",
    "       output array that this state's elctoral votes will be added to.\n",
    "       \n",
    "    Output:\n",
    "    vote_tally: 1d array\n",
    "        Votes recieved by each party, where index is the party ID used by state_status\n",
    "    \"\"\"\n",
    "    result = np.zeros(int(max(state_status))+1)\n",
    "    \n",
    "    for count, status in zip(elector_counts, state_status):\n",
    "        result[int(status)] += count\n",
    "    return result\n",
    "\n",
    "def simulate_elections(p_matrix, initial_state, elector_counts, election_count):\n",
    "    \"\"\"\n",
    "    Run multiple simulated elections, return the win tallies\n",
    "    \n",
    "    Inputs:\n",
    "    p_matrix: 2x2 matrix\n",
    "        Row index is initial state, column index is resulting state\n",
    "    current_states: 1d array\n",
    "        Values are the current states, must be 1 or 0\n",
    "    elector_counts: 1d array\n",
    "        Contains Electoral College elector counts for each state\n",
    "    election_count: integer\n",
    "        Number of elections to simulate.\n",
    "       \n",
    "    Output:\n",
    "    dem_wins: integer\n",
    "        Number of wins by the party with index D\n",
    "    rep_wins: integer\n",
    "        Number of wins by the party with index R\n",
    "    ties: integer\n",
    "        Number of times the two parties tied\n",
    "    \"\"\"\n",
    "    dem_wins = 0\n",
    "    rep_wins = 0\n",
    "    ties = 0\n",
    "    for i in range(election_count):\n",
    "        # Use a unique seed for each trial run, but keep things repeatable\n",
    "        # The +100 is just an adjustment to make a tie show up in the results\n",
    "        #  for a 100-election test\n",
    "        np.random.seed(i+100)\n",
    "        \n",
    "        vote_directions = get_markov_states(p_matrix,initial_state)\n",
    "        electoral_totals = eval_electoral_college(elector_counts, vote_directions)\n",
    "        \n",
    "        #index of one represents Republican and index of zero represents Democrat\n",
    "        if(electoral_totals[1] > electoral_totals[0]):\n",
    "            rep_wins += 1\n",
    "        elif(electoral_totals[0] > electoral_totals[1]):\n",
    "            dem_wins += 1\n",
    "        else:\n",
    "            ties += 1\n",
    "            \n",
    "    return dem_wins, rep_wins, ties"
   ]
  },
  {
   "cell_type": "code",
   "execution_count": 33,
   "metadata": {
    "collapsed": false
   },
   "outputs": [
    {
     "name": "stdout",
     "output_type": "stream",
     "text": [
      "[[ 0.65051113  0.34948887]\n",
      " [ 0.31244199  0.68755801]]\n",
      "------------------------------\n",
      "[[ 0.53235973  0.46764027]\n",
      " [ 0.41806898  0.58193102]]\n",
      "------------------------------\n",
      "[[ 0.47891277  0.52108723]\n",
      " [ 0.4658504   0.5341496 ]]\n",
      "------------------------------\n",
      "[[ 0.47210614  0.52789386]\n",
      " [ 0.47193551  0.52806449]]\n",
      "------------------------------\n",
      "[[ 0.47201606  0.52798394]\n",
      " [ 0.47201603  0.52798397]]\n",
      "------------------------------\n",
      "[[ 0.47201605  0.52798395]\n",
      " [ 0.47201605  0.52798395]]\n",
      "------------------------------\n",
      "[[ 0.47201605  0.52798395]\n",
      " [ 0.47201605  0.52798395]]\n",
      "------------------------------\n",
      "[[ 0.47201605  0.52798395]\n",
      " [ 0.47201605  0.52798395]]\n",
      "------------------------------\n",
      "[[ 0.47201605  0.52798395]\n",
      " [ 0.47201605  0.52798395]]\n",
      "------------------------------\n"
     ]
    }
   ],
   "source": [
    "#determine steady-state probabilities after 10 interations\n",
    "P2 = P.dot(P)\n",
    "for i in range(9):\n",
    "    print(P2)\n",
    "    print('------------------------------')\n",
    "    P2 = P2.dot(P2)"
   ]
  },
  {
   "cell_type": "code",
   "execution_count": 35,
   "metadata": {
    "collapsed": false
   },
   "outputs": [
    {
     "name": "stdout",
     "output_type": "stream",
     "text": [
      "('Democratic wins: ', 3696, ' Republican wins: ', 6234, ' Ties: ', 70)\n"
     ]
    }
   ],
   "source": [
    "# Check the election results using the steady-state probability matrix\n",
    "dem_wins, rep_wins, ties = simulate_elections(P2, state_last_vote, state_electors, 10000)\n",
    "print(\"Democratic wins: \", dem_wins, \" Republican wins: \", rep_wins, \" Ties: \",ties)"
   ]
  },
  {
   "cell_type": "code",
   "execution_count": 41,
   "metadata": {
    "collapsed": false
   },
   "outputs": [],
   "source": [
    "#Predict the election results after 100 interations\n",
    "#create list for electoral vote count for R\n",
    "#create list of states won by R\n",
    "r_results = [] \n",
    "r_state_counts = [] \n",
    "\n",
    "#number of iterations set to 100\n",
    "chain_length = 100\n",
    "\n",
    "state_status = state_last_vote\n",
    "for i in range(5):\n",
    "    np.random.seed(i)\n",
    "    r_list = []\n",
    "    r_count_list = []\n",
    "    \n",
    "    # Run things out for chain_length election cycles\n",
    "    for i in range(chain_length):\n",
    "        state_status = get_markov_states(P,state_status)\n",
    "        electoral_totals = eval_electoral_college(state_electors, state_status)\n",
    "        r_list.append(electoral_totals[1])\n",
    "        r_count_list.append(sum(state_status)/50)\n",
    "    r_results.append(r_list)\n",
    "    r_state_counts.append(r_count_list)"
   ]
  },
  {
   "cell_type": "code",
   "execution_count": 43,
   "metadata": {
    "collapsed": false
   },
   "outputs": [
    {
     "name": "stdout",
     "output_type": "stream",
     "text": [
      "('Democratic wins: ', 67, ' Republican wins: ', 32, ' Ties: ', 1)\n"
     ]
    }
   ],
   "source": [
    "dem_wins,rep_wins,ties = simulate_elections(P, state_last_vote, state_electors, 100)\n",
    "print(\"Democratic wins: \", dem_wins, \" Republican wins: \", rep_wins, \" Ties: \",ties)"
   ]
  }
 ],
 "metadata": {
  "anaconda-cloud": {},
  "kernelspec": {
   "display_name": "Python [exercise6]",
   "language": "python",
   "name": "Python [exercise6]"
  },
  "language_info": {
   "codemirror_mode": {
    "name": "ipython",
    "version": 2
   },
   "file_extension": ".py",
   "mimetype": "text/x-python",
   "name": "python",
   "nbconvert_exporter": "python",
   "pygments_lexer": "ipython2",
   "version": "2.7.12"
  }
 },
 "nbformat": 4,
 "nbformat_minor": 0
}
