{
 "cells": [
  {
   "cell_type": "markdown",
   "metadata": {},
   "source": [
    "# To find the most isolated airport in Euclidean Distance."
   ]
  },
  {
   "cell_type": "code",
   "execution_count": 1,
   "metadata": {
    "collapsed": false
   },
   "outputs": [],
   "source": [
    "from distance import *\n",
    "L = nearestD(\"data.csv\")\n",
    "data = read_csv(\"data.csv\")"
   ]
  },
  {
   "cell_type": "code",
   "execution_count": 2,
   "metadata": {
    "collapsed": false
   },
   "outputs": [
    {
     "name": "stdout",
     "output_type": "stream",
     "text": [
      "The most isolated airport in Euclidean Distance is \n",
      " ['2033', 'South Pole Station', \"Stephen's Island\", 'Antarctica', '', 'NZSP', '-89.999997', '0', '9300', '127', 'U']\n"
     ]
    }
   ],
   "source": [
    "IsoAir = 0\n",
    "for IsoAirID, i in enumerate(L):\n",
    "    if i[2] > IsoAir:\n",
    "        IsoAir = i[2]\n",
    "        ID = IsoAirID\n",
    "\n",
    "print(\"The most isolated airport in Euclidean Distance is \\n\",data[ID+1])"
   ]
  },
  {
   "cell_type": "code",
   "execution_count": 3,
   "metadata": {
    "collapsed": false
   },
   "outputs": [
    {
     "name": "stdout",
     "output_type": "stream",
     "text": [
      "(2033, 6436, 51.010016061574106)\n"
     ]
    }
   ],
   "source": [
    "print(L[ID])"
   ]
  },
  {
   "cell_type": "markdown",
   "metadata": {
    "collapsed": false
   },
   "source": [
    "# To find the pair of airports separated by the largest Euclidean Distance."
   ]
  },
  {
   "cell_type": "code",
   "execution_count": 4,
   "metadata": {
    "collapsed": true
   },
   "outputs": [],
   "source": [
    "data = read_csv('data.csv')\n",
    "Lats = to_float(get_attribute(data,'latitude'))\n",
    "Lons = to_float(get_attribute(data,'longitude'))\n",
    "Ids = to_float(get_attribute(data,'airport_id'))\n",
    "Cors = list(zip(Lats, Lons))\n",
    "ND = 0"
   ]
  },
  {
   "cell_type": "code",
   "execution_count": 5,
   "metadata": {
    "collapsed": false
   },
   "outputs": [],
   "source": [
    "for idX, i in enumerate(Cors):\n",
    "    for idY, j in enumerate(Cors):\n",
    "        I = list(i)\n",
    "        J = list(j)\n",
    "        if abs(i[1]-j[1])>180:\n",
    "            if i[1]>90:\n",
    "                I[1] = 180 - i[1]\n",
    "            if i[1]<-90:\n",
    "                I[1] = -180 - i[1]\n",
    "            if j[1]>90:\n",
    "                J[1] = 180 - j[1]\n",
    "            if j[1]<-90:\n",
    "                J[1] = -180 - j[1]\n",
    "                \n",
    "        dis = euclidean_distance(I,J)\n",
    "        if dis > ND:\n",
    "            ND = dis\n",
    "            IDY = int(Ids[idY])\n",
    "            IDX = int(Ids[idX])\n",
    "            idy = idY\n",
    "            idx = idX"
   ]
  },
  {
   "cell_type": "code",
   "execution_count": 6,
   "metadata": {
    "collapsed": false
   },
   "outputs": [
    {
     "name": "stdout",
     "output_type": "stream",
     "text": [
      "The pair of airports that are sperated by the largest distance is #2033 and #6098 with the Euclidean Distance 235.658521.\n",
      "['2033', 'South Pole Station', \"Stephen's Island\", 'Antarctica', '', 'NZSP', '-89.999997', '0', '9300', '127', 'U']\n",
      "['6098', 'Ugolny Airport', 'Anadyr', 'Russia', 'DYR', 'UHMA', '64.73495', '177.741483', '194', '12', 'N']\n"
     ]
    }
   ],
   "source": [
    "print (\"The pair of airports that are sperated by the largest distance is #%d and #%d with the Euclidean Distance %f.\"%(IDX, IDY, ND))\n",
    "print(data[idx+1])\n",
    "print(data[idy+1])"
   ]
  },
  {
   "cell_type": "markdown",
   "metadata": {},
   "source": [
    "# To find the most isolated airport in Great Circle Distance. "
   ]
  },
  {
   "cell_type": "code",
   "execution_count": 7,
   "metadata": {
    "collapsed": false
   },
   "outputs": [
    {
     "name": "stdout",
     "output_type": "stream",
     "text": [
      "The most isolated airport in Euclidean Distance is \n",
      " ['528', 'Woodvale', 'Woodvale', 'United Kingdom', '', 'EGOW', '53.581575', '-3.055522', '37', '0', 'E']\n"
     ]
    }
   ],
   "source": [
    "G = nearestD_haversine_distance(\"data.csv\")\n",
    "IsoAir = 0\n",
    "for IsoAirID, i in enumerate(G):\n",
    "    if i[2] > IsoAir:\n",
    "        IsoAir = i[2]\n",
    "        ID = IsoAirID\n",
    "\n",
    "print(\"The most isolated airport in Euclidean Distance is \\n\",data[ID+1])"
   ]
  },
  {
   "cell_type": "code",
   "execution_count": 8,
   "metadata": {
    "collapsed": false
   },
   "outputs": [
    {
     "data": {
      "text/plain": [
       "(528, 2228, 525.6500672898386)"
      ]
     },
     "execution_count": 8,
     "metadata": {},
     "output_type": "execute_result"
    }
   ],
   "source": [
    "G[ID]"
   ]
  },
  {
   "cell_type": "markdown",
   "metadata": {},
   "source": [
    "# To find the pair of airports separated by the largest Great Circle Distance."
   ]
  },
  {
   "cell_type": "code",
   "execution_count": 7,
   "metadata": {
    "collapsed": false
   },
   "outputs": [],
   "source": [
    "for idX, i in enumerate(Cors):\n",
    "    for idY, j in enumerate(Cors):\n",
    "        I = list(i)\n",
    "        J = list(j)\n",
    "        if abs(i[1]-j[1])>180:\n",
    "            if i[1]>90:\n",
    "                I[1] = 180 - i[1]\n",
    "            if i[1]<-90:\n",
    "                I[1] = -180 - i[1]\n",
    "            if j[1]>90:\n",
    "                J[1] = 180 - j[1]\n",
    "            if j[1]<-90:\n",
    "                J[1] = -180 - j[1]\n",
    "                \n",
    "        dis = haversine_distance(I,J)\n",
    "        if dis > ND:\n",
    "            ND = dis\n",
    "            IDY = int(Ids[idY])\n",
    "            IDX = int(Ids[idX])\n",
    "            idy = idY\n",
    "            idx = idX"
   ]
  },
  {
   "cell_type": "code",
   "execution_count": 12,
   "metadata": {
    "collapsed": false
   },
   "outputs": [
    {
     "name": "stdout",
     "output_type": "stream",
     "text": [
      "The pair of airports that are sperated by the largest distance is #213 and #2272 with the Greate Circle Distance 20104.289794km.\n",
      "['213', 'Reggane', 'Reggan', 'Algeria', '', 'DAAN', '26.710103', '0.285647', '955', '1', 'N']\n",
      "['2272', 'Magong', 'Makung', 'Taiwan', 'MZG', 'RCQC', '23.568669', '119.628311', '103', '8', 'U']\n"
     ]
    }
   ],
   "source": [
    "print (\"The pair of airports that are sperated by the largest distance is #%d and #%d with the Greate Circle Distance %fkm.\"%(IDX, IDY, ND))\n",
    "print(data[idx+1])\n",
    "print(data[idy+1])"
   ]
  },
  {
   "cell_type": "markdown",
   "metadata": {
    "collapsed": true
   },
   "source": [
    "# Report any major descrepancies between your answers using Euclidean distance and Great Circle Distance."
   ]
  },
  {
   "cell_type": "markdown",
   "metadata": {
    "collapsed": true
   },
   "source": [
    "I don't think these two mehtods can be compared because they totally have different units (degree and km). As for results, all of results are different.\n",
    "\n",
    "Personally, the major difference is in the finding the pair of airports separated by the largest distance. In the great circle distance calculation, two airports have very similar latitudes(both of them are relatively lower latitudes). But in the Euclidean Distance calculation, the latitudes of two points have great difference. That is because the distance (number) in degree won't decrease with the increasing of latitudes. Then, the difference in latitudes can play a more important role in distance than it does in the great circle calculation."
   ]
  },
  {
   "cell_type": "code",
   "execution_count": null,
   "metadata": {
    "collapsed": true
   },
   "outputs": [],
   "source": []
  }
 ],
 "metadata": {
  "anaconda-cloud": {},
  "kernelspec": {
   "display_name": "Python [conda env:QuanPython3]",
   "language": "python",
   "name": "conda-env-QuanPython3-py"
  },
  "language_info": {
   "codemirror_mode": {
    "name": "ipython",
    "version": 3
   },
   "file_extension": ".py",
   "mimetype": "text/x-python",
   "name": "python",
   "nbconvert_exporter": "python",
   "pygments_lexer": "ipython3",
   "version": "3.4.5"
  }
 },
 "nbformat": 4,
 "nbformat_minor": 1
}
