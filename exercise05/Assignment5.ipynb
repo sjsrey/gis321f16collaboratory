{
 "cells": [
  {
   "cell_type": "markdown",
   "metadata": {},
   "source": [
    "## Find the Most Isolated Airport in Euclidean Distance"
   ]
  },
  {
   "cell_type": "code",
   "execution_count": 1,
   "metadata": {
    "collapsed": false
   },
   "outputs": [],
   "source": [
    "#import necessary modules\n",
    "import points1"
   ]
  },
  {
   "cell_type": "code",
   "execution_count": 2,
   "metadata": {
    "collapsed": false
   },
   "outputs": [],
   "source": [
    "newlines = points1.read_csv(\"airports.csv\")\n",
    "header = newlines[0]\n",
    "neardis = points1.nearestD(\"airports.csv\")"
   ]
  },
  {
   "cell_type": "code",
   "execution_count": 3,
   "metadata": {
    "collapsed": false
   },
   "outputs": [
    {
     "name": "stdout",
     "output_type": "stream",
     "text": [
      "['2033', 'South Pole Station', \"Stephen's Island\", 'Antarctica', '', 'NZSP', '-89.999997', '0', '9300', '127', 'U']\n",
      "(2033, 6436, 51.010016061574106)\n"
     ]
    }
   ],
   "source": [
    "#set distance equal to zero and replace with highest value from the list\n",
    "#this will be the most isolated airport\n",
    "\n",
    "isolated = 0\n",
    "for isolatedId, i in enumerate(neardis):\n",
    "    if i[2] > isolated:\n",
    "        isolated = i[2]\n",
    "        ID = isolatedId\n",
    "        \n",
    "print(newlines[ID+1]) #add 1 to this because of the precense of the header\n",
    "print(neardis[ID])"
   ]
  },
  {
   "cell_type": "markdown",
   "metadata": {},
   "source": [
    "## Find the pair of airports that are separated by the largest Euclidean Distance"
   ]
  },
  {
   "cell_type": "code",
   "execution_count": 4,
   "metadata": {
    "collapsed": false
   },
   "outputs": [],
   "source": [
    "#assign variabel to the data\n",
    "#convert and zip together the lat and long points to create coordinates\n",
    "#set the max distance equal to negative number and replace with a larger number\n",
    "#as we progess through the loop\n",
    "\n",
    "lats = points1.to_float(points1.get_attribute(newlines, 'latitude'))\n",
    "lons = points1.to_float(points1.get_attribute(newlines, 'longitude'))\n",
    "ids = points1.to_float(points1.get_attribute(newlines, 'airport_id'))\n",
    "points = list(zip(lats, lons))\n",
    "maxdist = 0"
   ]
  },
  {
   "cell_type": "code",
   "execution_count": 5,
   "metadata": {
    "collapsed": false
   },
   "outputs": [
    {
     "name": "stdout",
     "output_type": "stream",
     "text": [
      "['2033', 'South Pole Station', \"Stephen's Island\", 'Antarctica', '', 'NZSP', '-89.999997', '0', '9300', '127', 'U']\n",
      "['6098', 'Ugolny Airport', 'Anadyr', 'Russia', 'DYR', 'UHMA', '64.73495', '177.741483', '194', '12', 'N']\n",
      "235.658521174\n"
     ]
    }
   ],
   "source": [
    "#loop through all the coordinates and determine which ones are located furthestaway from each other\n",
    "\n",
    "for idX, i in enumerate(points):\n",
    "    for idY, j in enumerate(points):\n",
    "        I = list(i)\n",
    "        J = list(j)\n",
    "        if abs(i[1]-j[1]) > 180:\n",
    "            if i[1]>90:\n",
    "                I[1] = 180 - i[1]\n",
    "            if i[1]<-90:\n",
    "                I[1] = -180 - i[1]\n",
    "            if j[1]>90:\n",
    "                J[1] = 180 - j[1]\n",
    "            if j[1]<-90:\n",
    "                J[1] = -180 - j[1]\n",
    "                \n",
    "        distance = points1.euclidean_distance(I,J)\n",
    "        if distance > maxdist:\n",
    "            maxdist = distance\n",
    "            IDY = int(ids[idY])\n",
    "            IDX = int(ids[idX])\n",
    "            idy = idY\n",
    "            idx = idX\n",
    "            \n",
    "print(newlines[idx+1]) #add 1 to this and the next due to header in file\n",
    "print(newlines[idy+1]) #same as above comment\n",
    "print(maxdist) #distance between two airports"
   ]
  },
  {
   "cell_type": "markdown",
   "metadata": {},
   "source": [
    "## Find most isolated airport in GCD"
   ]
  },
  {
   "cell_type": "code",
   "execution_count": 6,
   "metadata": {
    "collapsed": false
   },
   "outputs": [
    {
     "name": "stdout",
     "output_type": "stream",
     "text": [
      "['528', 'Woodvale', 'Woodvale', 'United Kingdom', '', 'EGOW', '53.581575', '-3.055522', '37', '0', 'E']\n",
      "(528, 2228, 525.6500672898386)\n"
     ]
    }
   ],
   "source": [
    "#use haversine function to calculate the nearest distance using the haversine\n",
    "#formula\n",
    "#start distance at zero and replace with a larger value each iteration\n",
    "\n",
    "gcd = points1.nearestD_haversine_distance(\"data.csv\")\n",
    "isolated = 0\n",
    "for isolatedId, i in enumerate(gcd):\n",
    "    if i[2] > isolated:\n",
    "        isolated = i[2]\n",
    "        ID = isolatedId\n",
    "        \n",
    "print(newlines[ID+1]) #correct for the presence of the header in the file\n",
    "print(gcd[ID]) #the most isloated airport in GCD"
   ]
  },
  {
   "cell_type": "markdown",
   "metadata": {},
   "source": [
    "## Find the airports most isolated in GCD"
   ]
  },
  {
   "cell_type": "code",
   "execution_count": 7,
   "metadata": {
    "collapsed": false
   },
   "outputs": [
    {
     "name": "stdout",
     "output_type": "stream",
     "text": [
      "['213', 'Reggane', 'Reggan', 'Algeria', '', 'DAAN', '26.710103', '0.285647', '955', '1', 'N']\n",
      "['2272', 'Magong', 'Makung', 'Taiwan', 'MZG', 'RCQC', '23.568669', '119.628311', '103', '8', 'U']\n",
      "20104.289794\n"
     ]
    }
   ],
   "source": [
    "#loop through all of the points to find the airport that is the most isolated in GCD\n",
    "\n",
    "for idX, i in enumerate(points):\n",
    "    for idY, j in enumerate(points):\n",
    "        I = list(i)\n",
    "        J = list(j)\n",
    "        if abs(i[1]-j[1]) > 180:\n",
    "            if i[1] > 90:\n",
    "                I[1] = 180 - i[1]\n",
    "            if i[1] < -90:\n",
    "                I[1] = -180 - i[1]\n",
    "            if j[1] > 90:\n",
    "                J[1] = 180 - j[1]\n",
    "            if j[1] <- 90:\n",
    "                J[1] = -180 - j[1]\n",
    "                \n",
    "        distance = points1.haversine_distance(I,J)\n",
    "        if distance > maxdist:\n",
    "            maxdist = distance\n",
    "            IDY = int(ids[idY])\n",
    "            IDX = int(ids[idX])\n",
    "            idy = idY\n",
    "            idx = idX\n",
    "            \n",
    "print(newlines[idx+1]) #add 1 due to presence of header \n",
    "print(newlines[idy+1]) #same as above comment\n",
    "print(maxdist)"
   ]
  },
  {
   "cell_type": "markdown",
   "metadata": {},
   "source": [
    "## Results"
   ]
  },
  {
   "cell_type": "markdown",
   "metadata": {},
   "source": [
    "The Euclidean and Haversine (Great Circle) distances are very different, especially as the distance increases.  The Euclidean (\"as the crow flies\") method of determining distance doesn't take the curvature of the Earth into consideration, therefore, this distance is not an accurate representation of the actual distance between points. The Haversine distance method does take this into consideration, thus providing us with a more accurate representation of the distance between points on Earth.  Lines of longitude decrease in distance between each other as you move towards the poles from the equator.  This also plays a role in why the Haversine distance fucntion is useful because it can take this into account and provide the most accurate representation of the distance.  "
   ]
  }
 ],
 "metadata": {
  "anaconda-cloud": {},
  "kernelspec": {
   "display_name": "Python [Root]",
   "language": "python",
   "name": "Python [Root]"
  },
  "language_info": {
   "codemirror_mode": {
    "name": "ipython",
    "version": 2
   },
   "file_extension": ".py",
   "mimetype": "text/x-python",
   "name": "python",
   "nbconvert_exporter": "python",
   "pygments_lexer": "ipython2",
   "version": "2.7.12"
  }
 },
 "nbformat": 4,
 "nbformat_minor": 0
}
