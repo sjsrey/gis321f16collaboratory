{
 "cells": [
  {
   "cell_type": "markdown",
   "metadata": {},
   "source": [
    "# Dominic Exercise 04 Assignment\n",
    "\n",
    "## Algorithm \n",
    "- 1) Load data file\n",
    "- 2) Create longitude/latitude references to columns\n",
    "- 3) Set up lists each containg: North,South,West,East Hemisphere\n",
    "- 4) Conduct methods to complete exercise questions\n",
    "\n",
    "\n",
    "###### Notebooks/Sources Used: Sequences Notebook, Conditional Lecture Notebook"
   ]
  },
  {
   "cell_type": "code",
   "execution_count": 81,
   "metadata": {
    "collapsed": false
   },
   "outputs": [],
   "source": [
    "#import data file\n",
    "import csv\n",
    "\n",
    "newlines = []\n",
    "with open('airports.csv', 'r') as f:\n",
    "    reader = csv.reader(f)\n",
    "    for line in reader:\n",
    "        newlines.append(line)\n",
    "\n",
    "# Test Check\n",
    "#newlines[-3]\n",
    "\n",
    "#Set Variables\n",
    "\n",
    "header = newlines[0]\n",
    "\n",
    "# Test Check \n",
    "#header\n",
    "\n",
    "#(Following pulled from class examples)\n",
    "\n",
    "#Assign lists to columns upon calling\n",
    "lat = header.index('latitude')\n",
    "lon = header.index('longitude')\n",
    "latitudes = [float(record[lat]) for record in newlines[1:]]\n",
    "longitudes = [float(record[lon]) for record in newlines[1:]]\n",
    "\n",
    "#(following pulled from lecture conditionals example)\n",
    "\n",
    "#set lists pertaining to each hemisphere\n",
    "southern = []\n",
    "northern = []\n",
    "eastern = []\n",
    "western = []\n",
    "\n",
    "for i,lat in enumerate(latitudes):\n",
    "    if lat>0:\n",
    "        northern.append(i)\n",
    "    elif lat<0:\n",
    "        southern.append(i)\n",
    "            \n",
    "for i,lon in enumerate(longitudes):\n",
    "    if lon>0:\n",
    "        eastern.append(i)\n",
    "    elif lon<0:\n",
    "        western.append(i)\n",
    "        \n",
    "#(following pulled fromlecture conditionals example)   \n",
    "\n",
    "#set boundary points\n",
    "max_lat = float('-inf') #NORTHMOST\n",
    "max_lon = float('-inf') #EASTMOST\n",
    "min_lat = float('inf') #SOUTHMOST\n",
    "min_lon = float('inf') #WESTMOST\n",
    "\n",
    "southmost = min_lat\n",
    "westmost = min_lon\n",
    "northmost = max_lon\n",
    "eastmost = max_lat\n",
    "\n"
   ]
  },
  {
   "cell_type": "markdown",
   "metadata": {
    "collapsed": false
   },
   "source": [
    "### 1. Find the western most airport in the northern hemisphere"
   ]
  },
  {
   "cell_type": "code",
   "execution_count": 53,
   "metadata": {
    "collapsed": false
   },
   "outputs": [
    {
     "name": "stdout",
     "output_type": "stream",
     "text": [
      "['2253', 'Midway Atoll', 'Midway', 'Midway Islands', 'MDY', 'PMDY', '28.201725', '-177.380636', '13', '-11', 'U']\n"
     ]
    }
   ],
   "source": [
    "for i in northern:\n",
    "    if longitudes[i] < westmost:\n",
    "        westmost = longitudes[i]\n",
    "        \n",
    "print newlines[longitudes.index(westmost) + 1]"
   ]
  },
  {
   "cell_type": "markdown",
   "metadata": {},
   "source": [
    "### 2. Find the western most airport in the southern hemishpere"
   ]
  },
  {
   "cell_type": "code",
   "execution_count": 67,
   "metadata": {
    "collapsed": false
   },
   "outputs": [
    {
     "name": "stdout",
     "output_type": "stream",
     "text": [
      "['5875', 'Matei Airport', 'Matei', 'Fiji', 'TVU', 'NFNM', '-16.6906', '-179.877', '60', '12', 'U']\n"
     ]
    }
   ],
   "source": [
    "for i in southern:\n",
    "    if longitudes[i] < westmost:\n",
    "        westmost = longitudes[i]\n",
    "        \n",
    "print newlines[longitudes.index(westmost) + 1]"
   ]
  },
  {
   "cell_type": "markdown",
   "metadata": {},
   "source": [
    "### 3. Find the southern most airport in the western hemisphere"
   ]
  },
  {
   "cell_type": "code",
   "execution_count": 66,
   "metadata": {
    "collapsed": false
   },
   "outputs": [
    {
     "name": "stdout",
     "output_type": "stream",
     "text": [
      "['6437', 'South Shetland', 'South Shetland', 'Antarctica', '', '', '-68', '-58', '0', '-4', 'N']\n"
     ]
    }
   ],
   "source": [
    "for i in western:\n",
    "    if latitudes[i] < southmost:\n",
    "        southmost = latitudes[i]\n",
    "        \n",
    "print newlines[latitudes.index(southmost) + 1]"
   ]
  },
  {
   "cell_type": "markdown",
   "metadata": {},
   "source": [
    "### 4. Find the northern most airport in the eastern hemisphere"
   ]
  },
  {
   "cell_type": "code",
   "execution_count": 80,
   "metadata": {
    "collapsed": false
   },
   "outputs": [
    {
     "name": "stdout",
     "output_type": "stream",
     "text": [
      "['7452', 'Ny-Alesund Airport', 'Ny-Alesund', 'Svalbard', '', 'ENAS', '78.9275', '11.874167', '50', '1', 'U']\n"
     ]
    }
   ],
   "source": [
    "for i in eastern:\n",
    "    if latitudes[i] > northmost:\n",
    "        northmost = latitudes[i]\n",
    "        \n",
    "print newlines[latitudes.index(northmost) + 1]"
   ]
  }
 ],
 "metadata": {
  "anaconda-cloud": {},
  "kernelspec": {
   "display_name": "Python [default]",
   "language": "python",
   "name": "python2"
  },
  "language_info": {
   "codemirror_mode": {
    "name": "ipython",
    "version": 2
   },
   "file_extension": ".py",
   "mimetype": "text/x-python",
   "name": "python",
   "nbconvert_exporter": "python",
   "pygments_lexer": "ipython2",
   "version": "2.7.12"
  }
 },
 "nbformat": 4,
 "nbformat_minor": 1
}
