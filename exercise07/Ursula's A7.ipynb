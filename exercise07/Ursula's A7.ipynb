{
 "cells": [
  {
   "cell_type": "code",
   "execution_count": 1,
   "metadata": {
    "collapsed": true
   },
   "outputs": [],
   "source": [
    "import numpy as np"
   ]
  },
  {
   "cell_type": "code",
   "execution_count": 6,
   "metadata": {
    "collapsed": false
   },
   "outputs": [
    {
     "name": "stdout",
     "output_type": "stream",
     "text": [
      "['Alabama', 'R', 'D', 'R', 'R', 'R', 'R', 'R', 'R', 'R', 'R', 'R', 'R']\n",
      "['Alaska', 'R', 'R', 'R', 'R', 'R', 'R', 'R', 'R', 'R', 'R', 'R', 'R']\n",
      "['Arizona', 'R', 'R', 'R', 'R', 'R', 'R', 'D', 'R', 'R', 'R', 'R', 'R']\n",
      "['Arkansas', 'R', 'D', 'R', 'R', 'R', 'D', 'D', 'R', 'R', 'R', 'R', 'R']\n",
      "['California', 'R', 'R', 'R', 'R', 'R', 'D', 'D', 'D', 'D', 'D', 'D', 'D']\n",
      "['Colorado', 'R', 'R', 'R', 'R', 'R', 'D', 'R', 'R', 'R', 'D', 'D', 'D']\n",
      "['Connecticut', 'R', 'R', 'R', 'R', 'R', 'D', 'D', 'D', 'D', 'D', 'D', 'D']\n",
      "['Delaware', 'R', 'D', 'R', 'R', 'R', 'D', 'D', 'D', 'D', 'D', 'D', 'D']\n",
      "['D.C.', 'D', 'D', 'D', 'D', 'D', 'D', 'D', 'D', 'D', 'D', 'D', 'D']\n",
      "['Florida', 'R', 'D', 'R', 'R', 'R', 'R', 'D', 'R', 'R', 'D', 'D', 'R']\n",
      "['Georgia', 'R', 'D', 'D', 'R', 'R', 'D', 'R', 'R', 'R', 'R', 'R', 'R']\n",
      "['Hawaii', 'R', 'D', 'D', 'R', 'D', 'D', 'D', 'D', 'D', 'D', 'D', 'D']\n",
      "['Idaho', 'R', 'R', 'R', 'R', 'R', 'R', 'R', 'R', 'R', 'R', 'R', 'R']\n",
      "['Illinois', 'R', 'R', 'R', 'R', 'R', 'D', 'D', 'D', 'D', 'D', 'D', 'D']\n",
      "['Indiana', 'R', 'R', 'R', 'R', 'R', 'R', 'R', 'R', 'R', 'D', 'R', 'R']\n",
      "['Iowa', 'R', 'R', 'R', 'R', 'D', 'D', 'D', 'D', 'R', 'D', 'D', 'R']\n",
      "['Kansas', 'R', 'R', 'R', 'R', 'R', 'R', 'R', 'R', 'R', 'R', 'R', 'R']\n",
      "['Kentucky', 'R', 'D', 'R', 'R', 'R', 'D', 'D', 'R', 'R', 'R', 'R', 'R']\n",
      "['Louisiana', 'R', 'D', 'R', 'R', 'R', 'D', 'D', 'R', 'R', 'R', 'R', 'R']\n",
      "['Maine', 'R', 'R', 'R', 'R', 'R', 'D', 'D', 'D', 'D', 'D', 'D', 'D']\n",
      "['Maryland', 'R', 'D', 'D', 'R', 'R', 'D', 'D', 'D', 'D', 'D', 'D', 'D']\n",
      "['Massachusetts', 'D', 'D', 'R', 'R', 'D', 'D', 'D', 'D', 'D', 'D', 'D', 'D']\n",
      "['Michigan', 'R', 'R', 'R', 'R', 'R', 'D', 'D', 'D', 'D', 'D', 'D', 'R']\n",
      "['Minnesota', 'R', 'D', 'D', 'D', 'D', 'D', 'D', 'D', 'D', 'D', 'D', 'D']\n",
      "['Mississippi', 'R', 'D', 'R', 'R', 'R', 'R', 'R', 'R', 'R', 'R', 'R', 'R']\n",
      "['Missouri', 'R', 'D', 'R', 'R', 'R', 'D', 'D', 'R', 'R', 'R', 'R', 'R']\n",
      "['Montana', 'R', 'R', 'R', 'R', 'R', 'D', 'R', 'R', 'R', 'R', 'R', 'R']\n",
      "['Nebraska', 'R', 'R', 'R', 'R', 'R', 'R', 'R', 'R', 'R', 'R', 'R', 'R']\n",
      "['Nevada', 'R', 'R', 'R', 'R', 'R', 'D', 'D', 'R', 'R', 'D', 'D', 'D']\n",
      "['New Hampshire', 'R', 'R', 'R', 'R', 'R', 'D', 'D', 'R', 'D', 'D', 'D', 'D']\n",
      "['New Jersey', 'R', 'R', 'R', 'R', 'R', 'D', 'D', 'D', 'D', 'D', 'D', 'D']\n",
      "['New Mexico', 'R', 'R', 'R', 'R', 'R', 'D', 'D', 'D', 'R', 'D', 'D', 'D']\n",
      "['New York', 'R', 'D', 'R', 'R', 'D', 'D', 'D', 'D', 'D', 'D', 'D', 'D']\n",
      "['North Carolina', 'R', 'D', 'R', 'R', 'R', 'R', 'R', 'R', 'R', 'D', 'R', 'R']\n",
      "['North Dakota', 'R', 'R', 'R', 'R', 'R', 'R', 'R', 'R', 'R', 'R', 'R', 'R']\n",
      "['Ohio', 'R', 'D', 'R', 'R', 'R', 'D', 'D', 'R', 'R', 'D', 'D', 'R']\n",
      "['Oklahoma', 'R', 'R', 'R', 'R', 'R', 'R', 'R', 'R', 'R', 'R', 'R', 'R']\n",
      "['Oregon', 'R', 'R', 'R', 'R', 'D', 'D', 'D', 'D', 'D', 'D', 'D', 'D']\n",
      "['Pennsylvania', 'R', 'D', 'R', 'R', 'R', 'D', 'D', 'D', 'D', 'D', 'D', 'R']\n",
      "['Rhode Island', 'R', 'D', 'D', 'R', 'D', 'D', 'D', 'D', 'D', 'D', 'D', 'D']\n",
      "['South Carolina', 'R', 'D', 'R', 'R', 'R', 'R', 'R', 'R', 'R', 'R', 'R', 'R']\n",
      "['South Dakota', 'R', 'R', 'R', 'R', 'R', 'R', 'R', 'R', 'R', 'R', 'R', 'R']\n",
      "['Tennessee', 'R', 'D', 'R', 'R', 'R', 'D', 'D', 'R', 'R', 'R', 'R', 'R']\n",
      "['Texas', 'R', 'D', 'R', 'R', 'R', 'R', 'R', 'R', 'R', 'R', 'R', 'R']\n",
      "['Utah', 'R', 'R', 'R', 'R', 'R', 'R', 'R', 'R', 'R', 'R', 'R', 'R']\n",
      "['Vermont', 'R', 'R', 'R', 'R', 'R', 'D', 'D', 'D', 'D', 'D', 'D', 'D']\n",
      "['Virginia', 'R', 'R', 'R', 'R', 'R', 'R', 'R', 'R', 'R', 'D', 'D', 'D']\n",
      "['Washington', 'R', 'R', 'R', 'R', 'D', 'D', 'D', 'D', 'D', 'D', 'D', 'D']\n",
      "['West Virginia', 'R', 'D', 'D', 'R', 'D', 'D', 'D', 'R', 'R', 'R', 'R', 'R']\n",
      "['Wisconsin', 'R', 'D', 'R', 'R', 'D', 'D', 'D', 'D', 'D', 'D', 'D', 'R']\n",
      "['Wyoming', 'R', 'R', 'R', 'R', 'R', 'R', 'R', 'R', 'R', 'R', 'R', 'R']\n"
     ]
    },
    {
     "data": {
      "text/plain": [
       "50"
      ]
     },
     "execution_count": 6,
     "metadata": {},
     "output_type": "execute_result"
    }
   ],
   "source": [
    "country = []\n",
    "with open('ElectData.txt') as f:\n",
    "    data = f.read().splitlines()\n",
    "    for line in data[1:]:\n",
    "        state = line.split('\\t')\n",
    "        print(state)\n",
    "        if line != 'D.C.\\tD\\tD\\tD\\tD\\tD\\tD\\tD\\tD\\tD\\tD\\tD\\tD':\n",
    "            country.append(state[1:])\n",
    "len(country)"
   ]
  },
  {
   "cell_type": "markdown",
   "metadata": {},
   "source": [
    "## Estimate a two-state discrete Markov chain."
   ]
  },
  {
   "cell_type": "code",
   "execution_count": 4,
   "metadata": {
    "collapsed": false
   },
   "outputs": [],
   "source": [
    "def count (start, transfer, rangelist):\n",
    "    num = 0\n",
    "    for i in range(1,len(rangelist)-1):\n",
    "        if rangelist[i-1]==start and rangelist[i]==transfer:\n",
    "            num += 1\n",
    "    return num"
   ]
  },
  {
   "cell_type": "code",
   "execution_count": 5,
   "metadata": {
    "collapsed": false
   },
   "outputs": [],
   "source": [
    "RR = RD = DR = DD = 0\n",
    "for state in country:\n",
    "    RR += count('R','R',state)\n",
    "    RD += count('R','D',state)\n",
    "    DR += count('D','R',state)\n",
    "    DD += count('D','D',state)\n",
    "tranMCountry = np.array([[RR, RD], [DR, DD]])\n",
    "rowsum = tranMCountry.sum(axis=1)\n",
    "proMCountry = np.dot(np.diag(1./rowsum),tranMCountry)"
   ]
  },
  {
   "cell_type": "code",
   "execution_count": 6,
   "metadata": {
    "collapsed": false
   },
   "outputs": [
    {
     "data": {
      "text/plain": [
       "array([[264,  65],\n",
       "       [ 40, 131]])"
      ]
     },
     "execution_count": 6,
     "metadata": {},
     "output_type": "execute_result"
    }
   ],
   "source": [
    "tranMCountry"
   ]
  },
  {
   "cell_type": "code",
   "execution_count": 7,
   "metadata": {
    "collapsed": false
   },
   "outputs": [
    {
     "data": {
      "text/plain": [
       "array([[ 0.80243161,  0.19756839],\n",
       "       [ 0.23391813,  0.76608187]])"
      ]
     },
     "execution_count": 7,
     "metadata": {},
     "output_type": "execute_result"
    }
   ],
   "source": [
    "proMCountry"
   ]
  },
  {
   "cell_type": "markdown",
   "metadata": {},
   "source": [
    "## 2. Estimate the steady-state distribution for the chain."
   ]
  },
  {
   "cell_type": "code",
   "execution_count": 8,
   "metadata": {
    "collapsed": false
   },
   "outputs": [
    {
     "name": "stdout",
     "output_type": "stream",
     "text": [
      "Chance of being X after 2 iterations:\n",
      "[[ 0.69011132  0.30988868]\n",
      " [ 0.36690374  0.63309626]]\n",
      "Chance of being X after 3 iterations:\n",
      "[[ 0.58995295  0.41004705]\n",
      " [ 0.48548981  0.51451019]]\n",
      "Chance of being X after 4 iterations:\n",
      "[[ 0.54711814  0.45288186]\n",
      " [ 0.5362056   0.4637944 ]]\n",
      "Chance of being X after 5 iterations:\n",
      "[[ 0.54217605  0.45782395]\n",
      " [ 0.54205697  0.45794303]]\n",
      "Chance of being X after 6 iterations:\n",
      "[[ 0.54212153  0.45787847]\n",
      " [ 0.54212152  0.45787848]]\n",
      "Chance of being X after 7 iterations:\n",
      "[[ 0.54212152  0.45787848]\n",
      " [ 0.54212152  0.45787848]]\n",
      "Chance of being X after 8 iterations:\n",
      "[[ 0.54212152  0.45787848]\n",
      " [ 0.54212152  0.45787848]]\n",
      "Chance of being X after 9 iterations:\n",
      "[[ 0.54212152  0.45787848]\n",
      " [ 0.54212152  0.45787848]]\n",
      "Chance of being X after 10 iterations:\n",
      "[[ 0.54212152  0.45787848]\n",
      " [ 0.54212152  0.45787848]]\n"
     ]
    }
   ],
   "source": [
    "# Finding steady-state probabilities\n",
    "P2 = proMCountry.dot(proMCountry)\n",
    "for i in range(9):\n",
    "    print(\"Chance of being X after %d iterations:\"%(i+2))\n",
    "    print(P2)\n",
    "    P2 = P2.dot(P2)"
   ]
  },
  {
   "cell_type": "markdown",
   "metadata": {
    "collapsed": true
   },
   "source": [
    "## What is the share of elections won by the Democrat?"
   ]
  },
  {
   "cell_type": "code",
   "execution_count": 11,
   "metadata": {
    "collapsed": false
   },
   "outputs": [
    {
     "data": {
      "text/plain": [
       "30"
      ]
     },
     "execution_count": 11,
     "metadata": {},
     "output_type": "execute_result"
    }
   ],
   "source": [
    "ob2012 = [state[-1] for state in country]\n",
    "with open('eleVote.txt') as f:\n",
    "    data = f.read()\n",
    "    string = data.split('\\n')\n",
    "    elector = [int(i) for i in string]\n",
    "su = 0\n",
    "for i in range(50):\n",
    "    if ob2012[i] == 'R':\n",
    "        su+=1\n",
    "su"
   ]
  },
  {
   "cell_type": "code",
   "execution_count": 9,
   "metadata": {
    "collapsed": false
   },
   "outputs": [],
   "source": [
    "def prediction(init,proM,electorCount):\n",
    "    preState = []\n",
    "    simuState = np.random.rand(len(init))\n",
    "    for i in range(len(init)):\n",
    "        if init[i] == 'R':\n",
    "            if simuState[i]>proM[0,0]:\n",
    "                preState.append('D')\n",
    "            else:\n",
    "                preState.append('R')\n",
    "        if init[i] == 'D':\n",
    "            if simuState[i]>proM[1,1]:\n",
    "                preState.append('R')\n",
    "            else:\n",
    "                preState.append('D')\n",
    "    R = 0\n",
    "    D = 0\n",
    "    for i in range(len(init)):\n",
    "        if preState[i] == 'R':\n",
    "            R+=electorCount[i]\n",
    "        else:\n",
    "            D+=electorCount[i]\n",
    "    if D>R:\n",
    "        return 1\n",
    "    if R>D:\n",
    "        return 0\n",
    "    if D==R:\n",
    "        print('Need select agian if assumed there are only two parties.')\n",
    "        return 0.5"
   ]
  },
  {
   "cell_type": "code",
   "execution_count": 10,
   "metadata": {
    "collapsed": false
   },
   "outputs": [
    {
     "name": "stdout",
     "output_type": "stream",
     "text": [
      "Democrat wins: 27, Republic wins: 73\n"
     ]
    }
   ],
   "source": [
    "Democrat = 0\n",
    "for i in range(100):\n",
    "    a = prediction(ob2012,proMCountry,elector)\n",
    "    Democrat+=a\n",
    "print('Democrat wins: %d, Republic wins: %d'%(Democrat,100-Democrat))"
   ]
  },
  {
   "cell_type": "code",
   "execution_count": null,
   "metadata": {
    "collapsed": true
   },
   "outputs": [],
   "source": []
  }
 ],
 "metadata": {
  "anaconda-cloud": {},
  "kernelspec": {
   "display_name": "Python [conda env:QuanPython3]",
   "language": "python",
   "name": "conda-env-QuanPython3-py"
  },
  "language_info": {
   "codemirror_mode": {
    "name": "ipython",
    "version": 3
   },
   "file_extension": ".py",
   "mimetype": "text/x-python",
   "name": "python",
   "nbconvert_exporter": "python",
   "pygments_lexer": "ipython3",
   "version": "3.4.5"
  }
 },
 "nbformat": 4,
 "nbformat_minor": 1
}
