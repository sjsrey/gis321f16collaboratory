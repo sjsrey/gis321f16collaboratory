{
 "cells": [
  {
   "cell_type": "markdown",
   "metadata": {},
   "source": [
    "## Exercise 04\n",
    "## Robert L. Hadsell"
   ]
  },
  {
   "cell_type": "code",
   "execution_count": 2,
   "metadata": {
    "collapsed": false
   },
   "outputs": [],
   "source": [
    "#reading a csv file and copying its contents to a variable\n",
    "import csv\n",
    "newlines = []\n",
    "with open('airports.csv', 'r') as f:\n",
    "    reader = csv.reader(f)\n",
    "    for line in reader:\n",
    "        newlines.append(line)"
   ]
  },
  {
   "cell_type": "code",
   "execution_count": 4,
   "metadata": {
    "collapsed": false
   },
   "outputs": [
    {
     "data": {
      "text/plain": [
       "[['airport_id',\n",
       "  'name',\n",
       "  'city',\n",
       "  'country',\n",
       "  'iata_faa',\n",
       "  'iaco',\n",
       "  'latitude',\n",
       "  'longitude',\n",
       "  'altitude',\n",
       "  'zone',\n",
       "  'dst'],\n",
       " ['1',\n",
       "  'Goroka',\n",
       "  'Goroka',\n",
       "  'Papua New Guinea',\n",
       "  'GKA',\n",
       "  'AYGA',\n",
       "  '-6.081689',\n",
       "  '145.391881',\n",
       "  '5282',\n",
       "  '10',\n",
       "  'U'],\n",
       " ['2',\n",
       "  'Madang',\n",
       "  'Madang',\n",
       "  'Papua New Guinea',\n",
       "  'MAG',\n",
       "  'AYMD',\n",
       "  '-5.207083',\n",
       "  '145.7887',\n",
       "  '20',\n",
       "  '10',\n",
       "  'U']]"
      ]
     },
     "execution_count": 4,
     "metadata": {},
     "output_type": "execute_result"
    }
   ],
   "source": [
    "newlines[:3]"
   ]
  },
  {
   "cell_type": "code",
   "execution_count": 5,
   "metadata": {
    "collapsed": false
   },
   "outputs": [
    {
     "data": {
      "text/plain": [
       "6978"
      ]
     },
     "execution_count": 5,
     "metadata": {},
     "output_type": "execute_result"
    }
   ],
   "source": [
    "#how many fields are there in the dataset\n",
    "len(newlines)"
   ]
  },
  {
   "cell_type": "code",
   "execution_count": 6,
   "metadata": {
    "collapsed": false
   },
   "outputs": [
    {
     "data": {
      "text/plain": [
       "['1',\n",
       " 'Goroka',\n",
       " 'Goroka',\n",
       " 'Papua New Guinea',\n",
       " 'GKA',\n",
       " 'AYGA',\n",
       " '-6.081689',\n",
       " '145.391881',\n",
       " '5282',\n",
       " '10',\n",
       " 'U']"
      ]
     },
     "execution_count": 6,
     "metadata": {},
     "output_type": "execute_result"
    }
   ],
   "source": [
    "newlines[1]"
   ]
  },
  {
   "cell_type": "code",
   "execution_count": 8,
   "metadata": {
    "collapsed": true
   },
   "outputs": [],
   "source": [
    "lat = newlines[0].index('latitude')\n",
    "lon = newlines[0].index('longitude')"
   ]
  },
  {
   "cell_type": "code",
   "execution_count": 9,
   "metadata": {
    "collapsed": false
   },
   "outputs": [
    {
     "data": {
      "text/plain": [
       "6"
      ]
     },
     "execution_count": 9,
     "metadata": {},
     "output_type": "execute_result"
    }
   ],
   "source": [
    "lat"
   ]
  },
  {
   "cell_type": "code",
   "execution_count": 10,
   "metadata": {
    "collapsed": false
   },
   "outputs": [
    {
     "data": {
      "text/plain": [
       "7"
      ]
     },
     "execution_count": 10,
     "metadata": {},
     "output_type": "execute_result"
    }
   ],
   "source": [
    "lon"
   ]
  },
  {
   "cell_type": "code",
   "execution_count": 11,
   "metadata": {
    "collapsed": false
   },
   "outputs": [
    {
     "data": {
      "text/plain": [
       "'-6.081689'"
      ]
     },
     "execution_count": 11,
     "metadata": {},
     "output_type": "execute_result"
    }
   ],
   "source": [
    "newlines[1][lat]"
   ]
  },
  {
   "cell_type": "code",
   "execution_count": 12,
   "metadata": {
    "collapsed": false
   },
   "outputs": [],
   "source": [
    "#change latitude and longitude values from strings to numbers\n",
    "#assign a variable to these values\n",
    "lats = [float(record[lat]) for record in newlines[1:]]\n",
    "lons = [float(record[lon]) for record in newlines[1:]]"
   ]
  },
  {
   "cell_type": "code",
   "execution_count": 21,
   "metadata": {
    "collapsed": false
   },
   "outputs": [
    {
     "data": {
      "text/plain": [
       "[145.391881, 145.7887, 144.295861]"
      ]
     },
     "execution_count": 21,
     "metadata": {},
     "output_type": "execute_result"
    }
   ],
   "source": [
    "# view how data is stored\n",
    "lons[0:3]"
   ]
  },
  {
   "cell_type": "code",
   "execution_count": 14,
   "metadata": {
    "collapsed": false
   },
   "outputs": [
    {
     "data": {
      "text/plain": [
       "[-6.081689, -5.207083, -5.826789]"
      ]
     },
     "execution_count": 14,
     "metadata": {},
     "output_type": "execute_result"
    }
   ],
   "source": [
    "lats[0:3]"
   ]
  },
  {
   "cell_type": "code",
   "execution_count": 15,
   "metadata": {
    "collapsed": true
   },
   "outputs": [],
   "source": [
    "# Make 4 Separate Lists to Store Values for each hemisphere\n",
    "northern = []\n",
    "southern = []\n",
    "eastern = []\n",
    "western = []"
   ]
  },
  {
   "cell_type": "code",
   "execution_count": 16,
   "metadata": {
    "collapsed": false
   },
   "outputs": [],
   "source": [
    "for i, lat in enumerate(lats):\n",
    "    if lat > 0:\n",
    "        northern.append(i)\n",
    "    else:\n",
    "        southern.append(i)\n",
    "    \n",
    "for i, lon in enumerate(lons):\n",
    "    if lon > 0:\n",
    "        eastern.append(i)\n",
    "    else:\n",
    "        western.append(i)"
   ]
  },
  {
   "cell_type": "markdown",
   "metadata": {},
   "source": [
    "## 1. Find the western most airport in the northern hemisphere"
   ]
  },
  {
   "cell_type": "code",
   "execution_count": 17,
   "metadata": {
    "collapsed": false,
    "scrolled": true
   },
   "outputs": [
    {
     "name": "stdout",
     "output_type": "stream",
     "text": [
      "['2253', 'Midway Atoll', 'Midway', 'Midway Islands', 'MDY', 'PMDY', '28.201725', '-177.380636', '13', '-11', 'U']\n"
     ]
    }
   ],
   "source": [
    "westernmost = float\n",
    "for i in northern:\n",
    "    if lons[i] < westernmost:\n",
    "        westernmost = lons[i]\n",
    "\n",
    "WN = lons.index(westernmost)\n",
    "print newlines[WN + 1]"
   ]
  },
  {
   "cell_type": "markdown",
   "metadata": {},
   "source": [
    "## 2. Find the western most airport in the southern hemisphere"
   ]
  },
  {
   "cell_type": "code",
   "execution_count": 18,
   "metadata": {
    "collapsed": false
   },
   "outputs": [
    {
     "name": "stdout",
     "output_type": "stream",
     "text": [
      "['5875', 'Matei Airport', 'Matei', 'Fiji', 'TVU', 'NFNM', '-16.6906', '-179.877', '60', '12', 'U']\n"
     ]
    }
   ],
   "source": [
    "for i in southern:\n",
    "    if lons[i] < westernmost:\n",
    "        westernmost = lons[i]\n",
    "    \n",
    "WS = lons.index(westernmost)\n",
    "print newlines[WS + 1]"
   ]
  },
  {
   "cell_type": "markdown",
   "metadata": {},
   "source": [
    "## 3. Find the southern most airport in the western hemisphere"
   ]
  },
  {
   "cell_type": "code",
   "execution_count": 28,
   "metadata": {
    "collapsed": false
   },
   "outputs": [
    {
     "name": "stdout",
     "output_type": "stream",
     "text": [
      "['2033', 'South Pole Station', \"Stephen's Island\", 'Antarctica', '', 'NZSP', '-89.999997', '0', '9300', '127', 'U']\n"
     ]
    }
   ],
   "source": [
    "southernmost = float ('inf')\n",
    "northernmost = float ('-inf')\n",
    "\n",
    "for i in western:\n",
    "    if lats[i] < southernmost:\n",
    "        southernmost = lats[i]\n",
    "    \n",
    "SW = lats.index(southernmost)\n",
    "print newlines[SW + 1]"
   ]
  },
  {
   "cell_type": "markdown",
   "metadata": {},
   "source": [
    "## 4. Find the northern most airport in the eastern hemisphere"
   ]
  },
  {
   "cell_type": "code",
   "execution_count": 27,
   "metadata": {
    "collapsed": false
   },
   "outputs": [
    {
     "name": "stdout",
     "output_type": "stream",
     "text": [
      "['7452', 'Ny-Alesund Airport', 'Ny-Alesund', 'Svalbard', '', 'ENAS', '78.9275', '11.874167', '50', '1', 'U']\n"
     ]
    }
   ],
   "source": [
    "for i in eastern:\n",
    "    if lats[i] > northernmost:\n",
    "        northernmost = lats[i]\n",
    "        \n",
    "NE = lats.index(northernmost)\n",
    "print newlines[NE + 1]"
   ]
  },
  {
   "cell_type": "code",
   "execution_count": null,
   "metadata": {
    "collapsed": true
   },
   "outputs": [],
   "source": []
  }
 ],
 "metadata": {
  "anaconda-cloud": {},
  "kernelspec": {
   "display_name": "Python [Root]",
   "language": "python",
   "name": "Python [Root]"
  },
  "language_info": {
   "codemirror_mode": {
    "name": "ipython",
    "version": 2
   },
   "file_extension": ".py",
   "mimetype": "text/x-python",
   "name": "python",
   "nbconvert_exporter": "python",
   "pygments_lexer": "ipython2",
   "version": "2.7.12"
  }
 },
 "nbformat": 4,
 "nbformat_minor": 0
}
