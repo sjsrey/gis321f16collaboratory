{
 "cells": [
  {
   "cell_type": "markdown",
   "metadata": {},
   "source": [
    "\n",
    "# Exercise 4: Geographically Extreme Airports in Python"
   ]
  },
  {
   "cell_type": "markdown",
   "metadata": {},
   "source": [
    "### Load data"
   ]
  },
  {
   "cell_type": "code",
   "execution_count": 6,
   "metadata": {
    "collapsed": false
   },
   "outputs": [],
   "source": [
    "# Load CSV file into list of lists\n",
    "import csv\n",
    "path = 'airports.csv'\n",
    "data = []\n",
    "with open(path, 'r') as f:\n",
    "    reader = csv.reader(f) # csv.reader is an iterator\n",
    "    for line in reader:\n",
    "        data.append(line)\n",
    "#\n",
    "\n",
    "# Split returned list into header and data sections\n",
    "header = data[0]\n",
    "data = data[1:]\n",
    "\n",
    "# Example data line\n",
    "# print(data[4441])\n"
   ]
  },
  {
   "cell_type": "markdown",
   "metadata": {},
   "source": [
    "### Convert numeric columns from strings to numbers"
   ]
  },
  {
   "cell_type": "code",
   "execution_count": 16,
   "metadata": {
    "collapsed": false
   },
   "outputs": [],
   "source": [
    "# Get column indices to convert\n",
    "lookup = dict([(v,k) for k,v in enumerate(header)])\n",
    "lat = lookup['latitude']\n",
    "lon = lookup['longitude']\n",
    "aptid = lookup['airport_id']\n",
    "alti = lookup['altitude']\n",
    "utc = lookup['zone'] # Timezone (I believe relative to UTC)\n",
    "\n",
    "# Fix numeric values\n",
    "for line in data:\n",
    "    line[aptid] = int(line[aptid])\n",
    "    line[lat] = float(line[lat])\n",
    "    line[lon] = float(line[lon])\n",
    "    line[alt] = float(line[alt])\n",
    "    line[utc] = float(line[utc])\n",
    "#\n",
    "\n",
    "# Example data line\n",
    "#print(data[4441])"
   ]
  },
  {
   "cell_type": "markdown",
   "metadata": {
    "collapsed": true
   },
   "source": [
    "### 1. Find the western most airport in the northern hemisphere"
   ]
  },
  {
   "cell_type": "code",
   "execution_count": 46,
   "metadata": {
    "collapsed": false
   },
   "outputs": [
    {
     "name": "stdout",
     "output_type": "stream",
     "text": [
      "1 found!\n",
      "[2253, 'Midway Atoll', 'Midway', 'Midway Islands', 'MDY', 'PMDY', 28.201725, -177.380636, 13.0, -11.0, 'U']\n"
     ]
    }
   ],
   "source": [
    "# Get the longitude of the westernmost airport in the northern hemisphere\n",
    "minlon = min([row[lon] for row in data if row[lat] > 0])\n",
    "\n",
    "# Get the airport record with that longitude (in the northern hemisphere)\n",
    "# TODO: is there a way to search on a column more directly than this?\n",
    "airport = [row for row in data if row[lon] == minlon and row[lat] > 0]\n",
    "\n",
    "# Print the first result\n",
    "# Might want to print all results?\n",
    "print(len(airport), \"found!\")\n",
    "print(airport[0])"
   ]
  },
  {
   "cell_type": "markdown",
   "metadata": {},
   "source": [
    "### 2. Find the western most airport in the southern hemisphere"
   ]
  },
  {
   "cell_type": "code",
   "execution_count": 45,
   "metadata": {
    "collapsed": false
   },
   "outputs": [
    {
     "name": "stdout",
     "output_type": "stream",
     "text": [
      "1 found!\n",
      "[5875, 'Matei Airport', 'Matei', 'Fiji', 'TVU', 'NFNM', -16.6906, -179.877, 60.0, 12.0, 'U']\n"
     ]
    }
   ],
   "source": [
    "# Get the longitude of the westernmost airport in the southern hemisphere\n",
    "minlon = min([row[lon] for row in data if row[lat] < 0])\n",
    "\n",
    "# Get the airport record with that longitude (in the southern hemisphere)\n",
    "airport = [row for row in data if row[lon] == minlon and row[lat] < 0]\n",
    "\n",
    "# Print the first result\n",
    "print(len(airport), \"found!\")\n",
    "print(airport[0])"
   ]
  },
  {
   "cell_type": "markdown",
   "metadata": {},
   "source": [
    "### 3. Find the southern most airport in the western hemisphere"
   ]
  },
  {
   "cell_type": "code",
   "execution_count": 47,
   "metadata": {
    "collapsed": false
   },
   "outputs": [
    {
     "name": "stdout",
     "output_type": "stream",
     "text": [
      "1 found!\n",
      "[6437, 'South Shetland', 'South Shetland', 'Antarctica', '', '', -68.0, -58.0, 0.0, -4.0, 'N']\n"
     ]
    }
   ],
   "source": [
    "# Get the longitude of the southernmost airport in the western hemisphere\n",
    "minlat = min([row[lat] for row in data if row[lon] < 0])\n",
    "\n",
    "# Get the airport record with that latitude (in the northern hemisphere)\n",
    "airport = [row for row in data if row[lat] == minlat and row[lon] < 0]\n",
    "\n",
    "# Print the first result\n",
    "print(len(airport), \"found!\")\n",
    "print(airport[0])"
   ]
  },
  {
   "cell_type": "markdown",
   "metadata": {},
   "source": [
    "### 4. Find the northern most airport in the eastern hemisphere"
   ]
  },
  {
   "cell_type": "code",
   "execution_count": 48,
   "metadata": {
    "collapsed": false
   },
   "outputs": [
    {
     "name": "stdout",
     "output_type": "stream",
     "text": [
      "1 found!\n",
      "[7452, 'Ny-Alesund Airport', 'Ny-Alesund', 'Svalbard', '', 'ENAS', 78.9275, 11.874167, 50.0, 1.0, 'U']\n"
     ]
    }
   ],
   "source": [
    "# Get the longitude of the northernmost airport in the eastern hemisphere\n",
    "maxlat = max([row[lat] for row in data if row[lon] > 0])\n",
    "\n",
    "# Get the airport record with that latitude (in the northern hemisphere)\n",
    "airport = [row for row in data if row[lat] == maxlat and row[lon] > 0]\n",
    "\n",
    "# Print the first result\n",
    "print(len(airport), \"found!\")\n",
    "print(airport[0])"
   ]
  },
  {
   "cell_type": "code",
   "execution_count": null,
   "metadata": {
    "collapsed": true
   },
   "outputs": [],
   "source": []
  }
 ],
 "metadata": {
  "anaconda-cloud": {},
  "kernelspec": {
   "display_name": "Python [Root]",
   "language": "python",
   "name": "Python [Root]"
  },
  "language_info": {
   "codemirror_mode": {
    "name": "ipython",
    "version": 3
   },
   "file_extension": ".py",
   "mimetype": "text/x-python",
   "name": "python",
   "nbconvert_exporter": "python",
   "pygments_lexer": "ipython3",
   "version": "3.5.2"
  }
 },
 "nbformat": 4,
 "nbformat_minor": 0
}
