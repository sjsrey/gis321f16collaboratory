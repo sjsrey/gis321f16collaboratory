{
 "cells": [
  {
   "cell_type": "markdown",
   "metadata": {},
   "source": [
    "# Exercise 04\n",
    "# James Johansen"
   ]
  },
  {
   "cell_type": "code",
   "execution_count": 58,
   "metadata": {
    "collapsed": false
   },
   "outputs": [],
   "source": [
    "# reading a file and copying it to a variable\n",
    "with open('gis321f16collaboratory/exercise04/airports.csv','r', encoding = 'latin-1') as f:\n",
    "    lines = f.readlines()"
   ]
  },
  {
   "cell_type": "code",
   "execution_count": 59,
   "metadata": {
    "collapsed": false
   },
   "outputs": [
    {
     "data": {
      "text/plain": [
       "list"
      ]
     },
     "execution_count": 59,
     "metadata": {},
     "output_type": "execute_result"
    }
   ],
   "source": [
    "# exploring the data\n",
    "type(lines)"
   ]
  },
  {
   "cell_type": "code",
   "execution_count": 60,
   "metadata": {
    "collapsed": false
   },
   "outputs": [
    {
     "data": {
      "text/plain": [
       "['airport_id,name,city,country,iata_faa,iaco,latitude,longitude,altitude,zone,dst\\n',\n",
       " '1,Goroka,Goroka,Papua New Guinea,GKA,AYGA,-6.081689,145.391881,5282,10,U\\n',\n",
       " '2,Madang,Madang,Papua New Guinea,MAG,AYMD,-5.207083,145.7887,20,10,U\\n']"
      ]
     },
     "execution_count": 60,
     "metadata": {},
     "output_type": "execute_result"
    }
   ],
   "source": [
    "lines[:3]"
   ]
  },
  {
   "cell_type": "code",
   "execution_count": 61,
   "metadata": {
    "collapsed": false
   },
   "outputs": [
    {
     "data": {
      "text/plain": [
       "6978"
      ]
     },
     "execution_count": 61,
     "metadata": {},
     "output_type": "execute_result"
    }
   ],
   "source": [
    "len(lines)"
   ]
  },
  {
   "cell_type": "code",
   "execution_count": 62,
   "metadata": {
    "collapsed": false
   },
   "outputs": [
    {
     "data": {
      "text/plain": [
       "'1,Goroka,Goroka,Papua New Guinea,GKA,AYGA,-6.081689,145.391881,5282,10,U\\n'"
      ]
     },
     "execution_count": 62,
     "metadata": {},
     "output_type": "execute_result"
    }
   ],
   "source": [
    "lines[1]"
   ]
  },
  {
   "cell_type": "code",
   "execution_count": 63,
   "metadata": {
    "collapsed": true
   },
   "outputs": [],
   "source": [
    "# splitting the string of each row to a list\n",
    "data = []\n",
    "for line in lines:\n",
    "    data.append(line.split(','))"
   ]
  },
  {
   "cell_type": "code",
   "execution_count": 64,
   "metadata": {
    "collapsed": false
   },
   "outputs": [],
   "source": [
    "# variable holding header\n",
    "header = data[0]"
   ]
  },
  {
   "cell_type": "code",
   "execution_count": 65,
   "metadata": {
    "collapsed": false
   },
   "outputs": [
    {
     "data": {
      "text/plain": [
       "(6, 7)"
      ]
     },
     "execution_count": 65,
     "metadata": {},
     "output_type": "execute_result"
    }
   ],
   "source": [
    "# variable holding latitude and longitude index\n",
    "lat = data[0].index('latitude')\n",
    "lon = data[0].index('longitude')\n",
    "lat,lon"
   ]
  },
  {
   "cell_type": "code",
   "execution_count": 66,
   "metadata": {
    "collapsed": false
   },
   "outputs": [],
   "source": [
    "# new variable to hold rows that have 11 items\n",
    "'''\n",
    "I am ignoring the rows with 12 items because I don't know how to\n",
    "deal with them at this point and I need to move on. I also know\n",
    "that those rows are not any of the answers, so luckily, I do not\n",
    "need them.\n",
    "'''\n",
    "data2 = []\n",
    "k = len(header)\n",
    "for line in data:\n",
    "    line_k = len(line)\n",
    "    if line_k == k:\n",
    "        data2.append(line)"
   ]
  },
  {
   "cell_type": "code",
   "execution_count": 121,
   "metadata": {
    "collapsed": false
   },
   "outputs": [],
   "source": [
    "# changing latitude and logitude values from string to float\n",
    "dataNoHeader = data2[1:]\n",
    "for line in dataNoHeader:\n",
    "    line[lat] = float(line[lat])\n",
    "    line[lon] = float(line[lon])"
   ]
  },
  {
   "cell_type": "code",
   "execution_count": 131,
   "metadata": {
    "collapsed": false
   },
   "outputs": [],
   "source": [
    "# variable to hold rows in the northern hemisphere\n",
    "northern =[]\n",
    "for line in dataNoHeader:\n",
    "    if line[lat] > 0:\n",
    "        northern.append(line)"
   ]
  },
  {
   "cell_type": "code",
   "execution_count": 132,
   "metadata": {
    "collapsed": false
   },
   "outputs": [],
   "source": [
    "# sorting the northern hemisphere by longitude\n",
    "northern.sort(key=lambda x: x[lon])"
   ]
  },
  {
   "cell_type": "markdown",
   "metadata": {},
   "source": [
    "## 1. The western most airport in the northern hemisphere."
   ]
  },
  {
   "cell_type": "code",
   "execution_count": 136,
   "metadata": {
    "collapsed": false,
    "scrolled": true
   },
   "outputs": [
    {
     "name": "stdout",
     "output_type": "stream",
     "text": [
      "['2253', 'Midway Atoll', 'Midway', 'Midway Islands', 'MDY', 'PMDY', 28.201725, -177.380636, '13', '-11', 'U\\n']\n"
     ]
    }
   ],
   "source": [
    "print(northern[0])"
   ]
  },
  {
   "cell_type": "code",
   "execution_count": 137,
   "metadata": {
    "collapsed": false
   },
   "outputs": [],
   "source": [
    "# variable to hold rows in southern hemishphere and sorting by longitude\n",
    "southern =[]\n",
    "for line in dataNoHeader:\n",
    "    if line[lat] < 0:\n",
    "        southern.append(line)\n",
    "southern.sort(key=lambda x: x[lon])"
   ]
  },
  {
   "cell_type": "markdown",
   "metadata": {},
   "source": [
    "## 2. The western most airport in the southern hemisphere."
   ]
  },
  {
   "cell_type": "code",
   "execution_count": 138,
   "metadata": {
    "collapsed": false
   },
   "outputs": [
    {
     "name": "stdout",
     "output_type": "stream",
     "text": [
      "['5875', 'Matei Airport', 'Matei', 'Fiji', 'TVU', 'NFNM', -16.6906, -179.877, '60', '12', 'U\\n']\n"
     ]
    }
   ],
   "source": [
    "print(southern[0])"
   ]
  },
  {
   "cell_type": "code",
   "execution_count": 139,
   "metadata": {
    "collapsed": true
   },
   "outputs": [],
   "source": [
    "# variable to hold rows in western hemisphere and sorting by latitude\n",
    "western = []\n",
    "for line in dataNoHeader:\n",
    "    if line[lon] < 0:\n",
    "        western.append(line)\n",
    "western.sort(key=lambda x: x[lat])"
   ]
  },
  {
   "cell_type": "markdown",
   "metadata": {},
   "source": [
    "## 3. The southern most airport in the western hemisphere."
   ]
  },
  {
   "cell_type": "code",
   "execution_count": 141,
   "metadata": {
    "collapsed": false
   },
   "outputs": [
    {
     "name": "stdout",
     "output_type": "stream",
     "text": [
      "['6437', 'South Shetland', 'South Shetland', 'Antarctica', '', '', -68.0, -58.0, '0', '-4', 'N\\n']\n"
     ]
    }
   ],
   "source": [
    "print(western[0])"
   ]
  },
  {
   "cell_type": "code",
   "execution_count": 142,
   "metadata": {
    "collapsed": true
   },
   "outputs": [],
   "source": [
    "# variable to hold rows in eastern hemisphere and sorting by latitude\n",
    "eastern = []\n",
    "for line in dataNoHeader:\n",
    "    if line[lon] > 0:\n",
    "        eastern.append(line)\n",
    "eastern.sort(key=lambda x: x[lat])"
   ]
  },
  {
   "cell_type": "markdown",
   "metadata": {},
   "source": [
    "## 4. The northern most airport in the eastern hemisphere."
   ]
  },
  {
   "cell_type": "code",
   "execution_count": 143,
   "metadata": {
    "collapsed": false
   },
   "outputs": [
    {
     "name": "stdout",
     "output_type": "stream",
     "text": [
      "['7452', 'Ny-Alesund Airport', 'Ny-Alesund', 'Svalbard', '', 'ENAS', 78.9275, 11.874167, '50', '1', 'U\\n']\n"
     ]
    }
   ],
   "source": [
    "print(eastern[-1])"
   ]
  }
 ],
 "metadata": {
  "anaconda-cloud": {},
  "kernelspec": {
   "display_name": "Python [Root]",
   "language": "python",
   "name": "Python [Root]"
  },
  "language_info": {
   "codemirror_mode": {
    "name": "ipython",
    "version": 3
   },
   "file_extension": ".py",
   "mimetype": "text/x-python",
   "name": "python",
   "nbconvert_exporter": "python",
   "pygments_lexer": "ipython3",
   "version": "3.5.2"
  }
 },
 "nbformat": 4,
 "nbformat_minor": 0
}
