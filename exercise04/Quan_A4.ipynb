{
 "cells": [
  {
   "cell_type": "markdown",
   "metadata": {},
   "source": [
    "# Quan Zhou Assignments 4\n",
    "#### This is the code to find 4 airports in airports.csv"
   ]
  },
  {
   "cell_type": "code",
   "execution_count": 10,
   "metadata": {
    "collapsed": true
   },
   "outputs": [],
   "source": [
    "import csv"
   ]
  },
  {
   "cell_type": "code",
   "execution_count": 11,
   "metadata": {
    "collapsed": false
   },
   "outputs": [],
   "source": [
    "newlines = []\n",
    "with open('airports.csv','r') as f:\n",
    "    reader = csv.reader(f)\n",
    "    for line in reader:\n",
    "        newlines.append(line)"
   ]
  },
  {
   "cell_type": "code",
   "execution_count": 12,
   "metadata": {
    "collapsed": false
   },
   "outputs": [],
   "source": [
    "lat = newlines[0].index('latitude')\n",
    "lon = newlines[0].index('longitude')\n",
    "lats = [float(record[lat]) for record in newlines[1:]]\n",
    "lons = [float(record[lon]) for record in newlines[1:]]\n",
    "#points = [[float(record[lon]),float(record[lat])] for record in newlines[1:]]"
   ]
  },
  {
   "cell_type": "markdown",
   "metadata": {},
   "source": [
    "#### To set up 4 list to store South/North/East/West hemisphere."
   ]
  },
  {
   "cell_type": "code",
   "execution_count": 13,
   "metadata": {
    "collapsed": false
   },
   "outputs": [],
   "source": [
    "southern = []\n",
    "northern = []\n",
    "eastern = []\n",
    "western = []\n",
    "\n",
    "for i,lat in enumerate(lats):\n",
    "    if lat>0:\n",
    "        northern.append(i)\n",
    "    elif lat<0:\n",
    "        southern.append(i)\n",
    "            \n",
    "for i,lon in enumerate(lons):\n",
    "    if lon>0:\n",
    "        eastern.append(i)\n",
    "    elif lon<0:\n",
    "        western.append(i)"
   ]
  },
  {
   "cell_type": "markdown",
   "metadata": {},
   "source": [
    "#### 1, Find the western most airport in the northern hemisphere"
   ]
  },
  {
   "cell_type": "code",
   "execution_count": 14,
   "metadata": {
    "collapsed": false
   },
   "outputs": [
    {
     "name": "stdout",
     "output_type": "stream",
     "text": [
      "['2253', 'Midway Atoll', 'Midway', 'Midway Islands', 'MDY', 'PMDY', '28.201725', '-177.380636', '13', '-11', 'U']\n"
     ]
    }
   ],
   "source": [
    "westmost = float('inf')\n",
    "for i in northern:\n",
    "    if lons[i] < westmost:\n",
    "        westmost = lons[i]\n",
    "            \n",
    "WinN = lons.index(westmost)\n",
    "print newlines[WinN + 1]"
   ]
  },
  {
   "cell_type": "markdown",
   "metadata": {},
   "source": [
    "#### 2, Find the western most airport in the southern hemisphere"
   ]
  },
  {
   "cell_type": "code",
   "execution_count": 15,
   "metadata": {
    "collapsed": false
   },
   "outputs": [
    {
     "name": "stdout",
     "output_type": "stream",
     "text": [
      "['5875', 'Matei Airport', 'Matei', 'Fiji', 'TVU', 'NFNM', '-16.6906', '-179.877', '60', '12', 'U']\n"
     ]
    }
   ],
   "source": [
    "for i in southern:\n",
    "    if lons[i] < westmost:\n",
    "            westmost = lons[i]\n",
    "\n",
    "WinS = lons.index(westmost)\n",
    "print newlines[WinS + 1]"
   ]
  },
  {
   "cell_type": "markdown",
   "metadata": {},
   "source": [
    "#### 3, Find the southern most airport in the western hemisphere"
   ]
  },
  {
   "cell_type": "code",
   "execution_count": 16,
   "metadata": {
    "collapsed": false
   },
   "outputs": [
    {
     "name": "stdout",
     "output_type": "stream",
     "text": [
      "['6437', 'South Shetland', 'South Shetland', 'Antarctica', '', '', '-68', '-58', '0', '-4', 'N']\n"
     ]
    }
   ],
   "source": [
    "southmost = float('inf')\n",
    "northmost = float('-inf')\n",
    "for i in western:\n",
    "    if lats[i] < southmost:\n",
    "        southmost = lats[i]\n",
    "\n",
    "SinE = lats.index(southmost)\n",
    "print newlines[SinE + 1]"
   ]
  },
  {
   "cell_type": "markdown",
   "metadata": {},
   "source": [
    "####  4, Find the northern most airport in the eastern hemisphere"
   ]
  },
  {
   "cell_type": "code",
   "execution_count": 17,
   "metadata": {
    "collapsed": false
   },
   "outputs": [
    {
     "name": "stdout",
     "output_type": "stream",
     "text": [
      "['7452', 'Ny-Alesund Airport', 'Ny-Alesund', 'Svalbard', '', 'ENAS', '78.9275', '11.874167', '50', '1', 'U']\n"
     ]
    }
   ],
   "source": [
    "for i in eastern:\n",
    "    if lats[i] > northmost:\n",
    "        northmost = lats[i]\n",
    "        \n",
    "NinW = lats.index(northmost)\n",
    "print newlines[NinW + 1]"
   ]
  },
  {
   "cell_type": "code",
   "execution_count": null,
   "metadata": {
    "collapsed": true
   },
   "outputs": [],
   "source": []
  }
 ],
 "metadata": {
  "anaconda-cloud": {},
  "kernelspec": {
   "display_name": "Python [conda env:QuanPysal]",
   "language": "python",
   "name": "conda-env-QuanPysal-py"
  },
  "language_info": {
   "codemirror_mode": {
    "name": "ipython",
    "version": 2
   },
   "file_extension": ".py",
   "mimetype": "text/x-python",
   "name": "python",
   "nbconvert_exporter": "python",
   "pygments_lexer": "ipython2",
   "version": "2.7.12"
  }
 },
 "nbformat": 4,
 "nbformat_minor": 1
}
